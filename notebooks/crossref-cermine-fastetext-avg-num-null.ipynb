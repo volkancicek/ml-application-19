{
 "cells": [
  {
   "cell_type": "code",
   "execution_count": 1,
   "metadata": {
    "ExecuteTime": {
     "end_time": "2018-04-12T19:27:23.665689Z",
     "start_time": "2018-04-12T19:27:20.582747Z"
    }
   },
   "outputs": [
    {
     "name": "stderr",
     "output_type": "stream",
     "text": [
      "Using TensorFlow backend.\n"
     ]
    }
   ],
   "source": [
    "import sys\n",
    "import os\n",
    "import re\n",
    "sys.path.append('../scripts')\n",
    "\n",
    "import numpy as np\n",
    "import pandas as pd\n",
    "import matplotlib.pyplot as plt\n",
    "import seaborn as sns\n",
    "import helpers as hp\n",
    "import pickle as pkl\n",
    "import itertools as it\n",
    "\n",
    "from collections import OrderedDict, defaultdict\n",
    "\n",
    "from sklearn.metrics import f1_score, precision_score, recall_score,\\\n",
    "                            average_precision_score, roc_auc_score,\\\n",
    "                            roc_curve, precision_recall_curve, confusion_matrix,\\\n",
    "                            accuracy_score, classification_report\n",
    "\n",
    "from IPython.core.interactiveshell import InteractiveShell\n",
    "from matplotlib import rcParams\n",
    "from importlib import reload\n",
    "from model_generator import deep_er_model_generator\n",
    "pd.options.display.max_colwidth = 1000\n",
    "\n",
    "rcParams['font.family'] = 'serif'\n",
    "rcParams['font.serif'] = 'times new roman'\n",
    "\n",
    "%config InlineBackend.figure_format = 'retina'\n",
    "%matplotlib inline"
   ]
  },
  {
   "cell_type": "markdown",
   "metadata": {},
   "source": [
    "# Load data "
   ]
  },
  {
   "cell_type": "code",
   "execution_count": 2,
   "metadata": {
    "ExecuteTime": {
     "end_time": "2018-04-12T21:41:12.001384Z",
     "start_time": "2018-04-12T21:40:47.012379Z"
    }
   },
   "outputs": [],
   "source": [
    "reload(hp)\n",
    "\n",
    "with open('../data/embeddings/fasttext-300.map', 'rb') as f:\n",
    "    map = pkl.load(f)\n",
    "\n",
    "data_dir = os.path.join('..','data')\n",
    "source_dir = os.path.join(data_dir,'split','crossref/cermine/fasttext')\n",
    "data = hp.load_data(source_dir)\n",
    "\n",
    "datasets = ['train_1', 'val_1', 'test_1', 'train_2', 'val_2', 'test_2']\n",
    "\n",
    "for data_name in datasets:\n",
    "    data[data_name] = data[data_name].fillna(0)\n",
    "\n",
    "doc_freqs_1, doc_freqs_2 = hp.get_document_frequencies('../data/converted/crossref/cermine/fasttext', mapping=map)\n",
    "nan_idx = map['word2idx']['NaN']"
   ]
  },
  {
   "cell_type": "markdown",
   "metadata": {},
   "source": [
    "# Generate model"
   ]
  },
  {
   "cell_type": "code",
   "execution_count": 3,
   "metadata": {
    "ExecuteTime": {
     "end_time": "2018-04-12T21:41:28.691606Z",
     "start_time": "2018-04-12T21:41:20.426588Z"
    },
    "scrolled": true
   },
   "outputs": [
    {
     "name": "stderr",
     "output_type": "stream",
     "text": [
      "WARNING: Logging before flag parsing goes to stderr.\n",
      "W0908 17:41:36.149971 10832 deprecation_wrapper.py:119] From D:\\Anaconda3\\lib\\site-packages\\keras\\backend\\tensorflow_backend.py:74: The name tf.get_default_graph is deprecated. Please use tf.compat.v1.get_default_graph instead.\n",
      "\n",
      "W0908 17:41:36.359463 10832 deprecation_wrapper.py:119] From D:\\Anaconda3\\lib\\site-packages\\keras\\backend\\tensorflow_backend.py:517: The name tf.placeholder is deprecated. Please use tf.compat.v1.placeholder instead.\n",
      "\n",
      "W0908 17:42:07.510932 10832 deprecation_wrapper.py:119] From D:\\Anaconda3\\lib\\site-packages\\keras\\backend\\tensorflow_backend.py:4138: The name tf.random_uniform is deprecated. Please use tf.random.uniform instead.\n",
      "\n",
      "W0908 17:42:08.097128 10832 deprecation_wrapper.py:119] From D:\\Anaconda3\\lib\\site-packages\\keras\\backend\\tensorflow_backend.py:174: The name tf.get_default_session is deprecated. Please use tf.compat.v1.get_default_session instead.\n",
      "\n",
      "W0908 17:42:08.100092 10832 deprecation_wrapper.py:119] From D:\\Anaconda3\\lib\\site-packages\\keras\\backend\\tensorflow_backend.py:181: The name tf.ConfigProto is deprecated. Please use tf.compat.v1.ConfigProto instead.\n",
      "\n"
     ]
    },
    {
     "name": "stdout",
     "output_type": "stream",
     "text": [
      "Number of inputs to dense layer: 14\n"
     ]
    }
   ],
   "source": [
    "histories = dict(acc=list(), val_acc=list(), loss=list(), val_loss=list())\n",
    "model, X_train, X_val, X_test, y_train, y_val, y_test = \\\n",
    "deep_er_model_generator(data,\n",
    "                        embedding_file = '../data/embeddings/fasttext-300.matrix.npy',\n",
    "                        text_columns = ['author', 'title', 'journal'],\n",
    "                        numeric_columns = ['year'],\n",
    "                        text_nan_idx=nan_idx,\n",
    "                        num_nan_val=0,\n",
    "                        text_sim_metrics=['cosine'],\n",
    "                        text_compositions=['average'],\n",
    "                        numeric_sim_metrics=['min_max_ratio', 'scaled_inverse_lp', 'unscaled_inverse_lp'],\n",
    "                        dense_nodes=[32, 16, 8],\n",
    "                        document_frequencies=(doc_freqs_1, doc_freqs_2),\n",
    "                        idf_smoothing=2,\n",
    "                        make_isna=True)"
   ]
  },
  {
   "cell_type": "markdown",
   "metadata": {},
   "source": [
    "# Train model "
   ]
  },
  {
   "cell_type": "code",
   "execution_count": 4,
   "metadata": {
    "ExecuteTime": {
     "end_time": "2018-04-12T21:52:12.328428Z",
     "start_time": "2018-04-12T21:51:42.009377Z"
    }
   },
   "outputs": [
    {
     "name": "stderr",
     "output_type": "stream",
     "text": [
      "W0908 17:55:44.404623 10832 deprecation_wrapper.py:119] From D:\\Anaconda3\\lib\\site-packages\\keras\\optimizers.py:790: The name tf.train.Optimizer is deprecated. Please use tf.compat.v1.train.Optimizer instead.\n",
      "\n",
      "W0908 17:55:44.469101 10832 deprecation.py:323] From D:\\Anaconda3\\lib\\site-packages\\tensorflow\\python\\ops\\nn_impl.py:180: add_dispatch_support.<locals>.wrapper (from tensorflow.python.ops.array_ops) is deprecated and will be removed in a future version.\n",
      "Instructions for updating:\n",
      "Use tf.where in 2.0, which has the same broadcast rule as np.where\n"
     ]
    },
    {
     "name": "stdout",
     "output_type": "stream",
     "text": [
      "Train on 1728716 samples, validate on 216089 samples\n",
      "Epoch 1/10\n",
      "1728716/1728716 [==============================] - 342s 198us/step - loss: 0.2310 - acc: 0.9257 - val_loss: 0.0559 - val_acc: 0.9902\n",
      "Epoch 2/10\n",
      "1728716/1728716 [==============================] - 264s 153us/step - loss: 0.0447 - acc: 0.9900 - val_loss: 0.0333 - val_acc: 0.9902\n",
      "Epoch 3/10\n",
      "1728716/1728716 [==============================] - 261s 151us/step - loss: 0.0281 - acc: 0.9900 - val_loss: 0.0229 - val_acc: 0.9902\n",
      "Epoch 4/10\n",
      "1728716/1728716 [==============================] - 263s 152us/step - loss: 0.0218 - acc: 0.9900 - val_loss: 0.0193 - val_acc: 0.9902\n",
      "Epoch 5/10\n",
      "1728716/1728716 [==============================] - 259s 150us/step - loss: 0.0176 - acc: 0.9937 - val_loss: 0.0143 - val_acc: 0.9963\n",
      "Epoch 6/10\n",
      "1728716/1728716 [==============================] - 255s 148us/step - loss: 0.0123 - acc: 0.9967 - val_loss: 0.0100 - val_acc: 0.9974\n",
      "Epoch 7/10\n",
      "1728716/1728716 [==============================] - 254s 147us/step - loss: 0.0093 - acc: 0.9974 - val_loss: 0.0085 - val_acc: 0.9976\n",
      "Epoch 8/10\n",
      "1728716/1728716 [==============================] - 255s 147us/step - loss: 0.0083 - acc: 0.9975 - val_loss: 0.0079 - val_acc: 0.9977\n",
      "Epoch 9/10\n",
      "1728716/1728716 [==============================] - 254s 147us/step - loss: 0.0079 - acc: 0.9977 - val_loss: 0.0076 - val_acc: 0.9978\n",
      "Epoch 10/10\n",
      "1728716/1728716 [==============================] - 255s 147us/step - loss: 0.0075 - acc: 0.9977 - val_loss: 0.0073 - val_acc: 0.9979\n"
     ]
    }
   ],
   "source": [
    "model.compile(optimizer='adam', loss='binary_crossentropy', metrics=['acc'])\n",
    "history = model.fit(X_train, y_train, epochs=10, batch_size=16384,\n",
    "                    validation_data=(X_val, y_val),\n",
    "                    shuffle=True)\n",
    "\n",
    "histories['acc'].extend(history.history['acc'])\n",
    "histories['val_acc'].extend(history.history['val_acc'])\n",
    "histories['loss'].extend(history.history['loss'])\n",
    "histories['val_loss'].extend(history.history['val_loss'])"
   ]
  },
  {
   "cell_type": "markdown",
   "metadata": {},
   "source": [
    "# Learning curves"
   ]
  },
  {
   "cell_type": "code",
   "execution_count": 5,
   "metadata": {
    "ExecuteTime": {
     "end_time": "2018-04-12T21:53:06.430610Z",
     "start_time": "2018-04-12T21:53:06.048975Z"
    }
   },
   "outputs": [
    {
     "data": {
      "image/png": "[encoded data removed]",
      "text/plain": [
       "<Figure size 1152x432 with 2 Axes>"
      ]
     },
     "metadata": {
      "image/png": {
       "height": 374,
       "width": 943
      },
      "needs_background": "light"
     },
     "output_type": "display_data"
    }
   ],
   "source": [
    "fig, axes = plt.subplots(1, 2, figsize=(16,6))\n",
    "axes[0].plot(histories['loss'], label='loss')\n",
    "axes[0].plot(histories['val_loss'], label='val_loss')\n",
    "axes[0].set_ylim(0, 0.02)\n",
    "axes[1].plot(histories['acc'], label='acc')\n",
    "axes[1].plot(histories['val_acc'], label='val_acc')\n",
    "axes[1].set_ylim(.99, 1)\n",
    "\n",
    "for ax in axes:\n",
    "    ax.legend()\n",
    "    ax.grid(True)\n",
    "    ax.set(xlabel='epoch')"
   ]
  },
  {
   "cell_type": "markdown",
   "metadata": {},
   "source": [
    "# Evaluate model "
   ]
  },
  {
   "cell_type": "code",
   "execution_count": 6,
   "metadata": {
    "ExecuteTime": {
     "end_time": "2018-04-12T21:53:11.515998Z",
     "start_time": "2018-04-12T21:53:08.723045Z"
    }
   },
   "outputs": [
    {
     "name": "stdout",
     "output_type": "stream",
     "text": [
      "              precision    recall  f1-score   support\n",
      "\n",
      "           0       1.00      1.00      1.00    213973\n",
      "           1       0.95      0.83      0.89      2116\n",
      "\n",
      "   micro avg       1.00      1.00      1.00    216089\n",
      "   macro avg       0.97      0.91      0.94    216089\n",
      "weighted avg       1.00      1.00      1.00    216089\n",
      "\n",
      "[[213882     91]\n",
      " [   362   1754]]\n"
     ]
    }
   ],
   "source": [
    "y_val_pred = model.predict(X_val, batch_size=8192)[:,1]\n",
    "y_val_ = data['val_y'].values.squeeze()\n",
    "print(classification_report(y_val_, y_val_pred >= 0.5))\n",
    "print(confusion_matrix(y_val_, y_val_pred >= 0.5))"
   ]
  },
  {
   "cell_type": "code",
   "execution_count": 7,
   "metadata": {
    "ExecuteTime": {
     "end_time": "2018-04-12T21:45:49.865322Z",
     "start_time": "2018-04-12T21:45:47.406682Z"
    },
    "scrolled": true
   },
   "outputs": [
    {
     "data": {
      "text/html": [
       "<div>\n",
       "<style scoped>\n",
       "    .dataframe tbody tr th:only-of-type {\n",
       "        vertical-align: middle;\n",
       "    }\n",
       "\n",
       "    .dataframe tbody tr th {\n",
       "        vertical-align: top;\n",
       "    }\n",
       "\n",
       "    .dataframe thead th {\n",
       "        text-align: right;\n",
       "    }\n",
       "</style>\n",
       "<table border=\"1\" class=\"dataframe\">\n",
       "  <thead>\n",
       "    <tr style=\"text-align: right;\">\n",
       "      <th></th>\n",
       "      <th>id1</th>\n",
       "      <th>author</th>\n",
       "      <th>title</th>\n",
       "      <th>journal</th>\n",
       "      <th>year</th>\n",
       "      <th>id2</th>\n",
       "      <th>author</th>\n",
       "      <th>title</th>\n",
       "      <th>journal</th>\n",
       "      <th>year</th>\n",
       "    </tr>\n",
       "  </thead>\n",
       "  <tbody>\n",
       "    <tr>\n",
       "      <th>90599</th>\n",
       "      <td>2b6900b0-abdf-11e9-94b9-04ea56df376a</td>\n",
       "      <td>Colon Cancer Patient Information Seeking and the Adoption of Targeted Therapy for on-label and Off-Label Indications</td>\n",
       "      <td>Gray , Crossref</td>\n",
       "      <td>&lt;unk&gt; Cancer 115.7</td>\n",
       "      <td>2009.0</td>\n",
       "      <td>2b699cc2-abdf-11e9-a108-04ea56df376a</td>\n",
       "      <td>Colon cancer patient information seeking and the adoption of targeted therapy for on-label and off-label indications</td>\n",
       "      <td>Gray , S. W. , Armstrong , K. , DeMichele , A. , Schwartz , J. S. , Hornik , R. C.</td>\n",
       "      <td>Cancer</td>\n",
       "      <td>2009.0</td>\n",
       "    </tr>\n",
       "    <tr>\n",
       "      <th>212251</th>\n",
       "      <td>377e1de8-abdf-11e9-ba20-04ea56df376a</td>\n",
       "      <td>&lt;unk&gt;</td>\n",
       "      <td>&lt;unk&gt;</td>\n",
       "      <td>Communicative &amp; Integrative Biology</td>\n",
       "      <td>2014.0</td>\n",
       "      <td>377d81d2-abdf-11e9-935e-04ea56df376a</td>\n",
       "      <td>Catching synaptic vesicles in &lt;unk&gt; ( , 7 : 4 Communicative &amp; Integrative Biology &lt;unk&gt;</td>\n",
       "      <td>&lt;unk&gt;</td>\n",
       "      <td>&lt;unk&gt;</td>\n",
       "      <td>2014.0</td>\n",
       "    </tr>\n",
       "    <tr>\n",
       "      <th>92052</th>\n",
       "      <td>32d58c00-abdf-11e9-85a9-04ea56df376a</td>\n",
       "      <td>26 : 6 Programming and</td>\n",
       "      <td>Uvarov , D L.</td>\n",
       "      <td>&lt;unk&gt;</td>\n",
       "      <td>2000.0</td>\n",
       "      <td>32d499fe-abdf-11e9-90cb-04ea56df376a</td>\n",
       "      <td>&lt;unk&gt;</td>\n",
       "      <td>Uvarov , D. L.</td>\n",
       "      <td>Programming and Computer Software , &lt;unk&gt;</td>\n",
       "      <td>2000.0</td>\n",
       "    </tr>\n",
       "    <tr>\n",
       "      <th>118157</th>\n",
       "      <td>4133c950-abdf-11e9-968a-04ea56df376a</td>\n",
       "      <td>History of the War in the Peninsula</td>\n",
       "      <td>NAPIER</td>\n",
       "      <td>&lt;unk&gt; &lt;unk&gt; &lt;unk&gt; &lt;unk&gt; / &lt;unk&gt;</td>\n",
       "      <td>0.0</td>\n",
       "      <td>41346562-abdf-11e9-8ec9-04ea56df376a</td>\n",
       "      <td>History of the War in the Peninsula and in the South of France</td>\n",
       "      <td>&lt;unk&gt; , WFP</td>\n",
       "      <td>&lt;unk&gt;</td>\n",
       "      <td>0.0</td>\n",
       "    </tr>\n",
       "    <tr>\n",
       "      <th>114525</th>\n",
       "      <td>3c9d568c-abdf-11e9-9cf0-04ea56df376a</td>\n",
       "      <td>&lt;unk&gt;</td>\n",
       "      <td>&lt;unk&gt;</td>\n",
       "      <td>&lt;unk&gt; 2 , &lt;unk&gt; &lt;unk&gt; &lt;unk&gt; 10</td>\n",
       "      <td>2016.0</td>\n",
       "      <td>3c9f2aae-abdf-11e9-9fbd-04ea56df376a</td>\n",
       "      <td>&lt;unk&gt; volume 33 issue 2 Cover and Front &lt;unk&gt; ( , 33 : 2 British Catholic History f1</td>\n",
       "      <td>&lt;unk&gt;</td>\n",
       "      <td>&lt;unk&gt;</td>\n",
       "      <td>2016.0</td>\n",
       "    </tr>\n",
       "  </tbody>\n",
       "</table>\n",
       "</div>"
      ],
      "text/plain": [
       "                                         id1  \\\n",
       "90599   2b6900b0-abdf-11e9-94b9-04ea56df376a   \n",
       "212251  377e1de8-abdf-11e9-ba20-04ea56df376a   \n",
       "92052   32d58c00-abdf-11e9-85a9-04ea56df376a   \n",
       "118157  4133c950-abdf-11e9-968a-04ea56df376a   \n",
       "114525  3c9d568c-abdf-11e9-9cf0-04ea56df376a   \n",
       "\n",
       "                                                                                                                       author  \\\n",
       "90599    Colon Cancer Patient Information Seeking and the Adoption of Targeted Therapy for on-label and Off-Label Indications   \n",
       "212251                                                                                                                  <unk>   \n",
       "92052                                                                                                  26 : 6 Programming and   \n",
       "118157                                                                                    History of the War in the Peninsula   \n",
       "114525                                                                                                                  <unk>   \n",
       "\n",
       "                   title                               journal    year  \\\n",
       "90599    Gray , Crossref                    <unk> Cancer 115.7  2009.0   \n",
       "212251             <unk>   Communicative & Integrative Biology  2014.0   \n",
       "92052      Uvarov , D L.                                 <unk>  2000.0   \n",
       "118157            NAPIER       <unk> <unk> <unk> <unk> / <unk>     0.0   \n",
       "114525             <unk>        <unk> 2 , <unk> <unk> <unk> 10  2016.0   \n",
       "\n",
       "                                         id2  \\\n",
       "90599   2b699cc2-abdf-11e9-a108-04ea56df376a   \n",
       "212251  377d81d2-abdf-11e9-935e-04ea56df376a   \n",
       "92052   32d499fe-abdf-11e9-90cb-04ea56df376a   \n",
       "118157  41346562-abdf-11e9-8ec9-04ea56df376a   \n",
       "114525  3c9f2aae-abdf-11e9-9fbd-04ea56df376a   \n",
       "\n",
       "                                                                                                                       author  \\\n",
       "90599    Colon cancer patient information seeking and the adoption of targeted therapy for on-label and off-label indications   \n",
       "212251                                Catching synaptic vesicles in <unk> ( , 7 : 4 Communicative & Integrative Biology <unk>   \n",
       "92052                                                                                                                   <unk>   \n",
       "118157                                                         History of the War in the Peninsula and in the South of France   \n",
       "114525                                   <unk> volume 33 issue 2 Cover and Front <unk> ( , 33 : 2 British Catholic History f1   \n",
       "\n",
       "                                                                                      title  \\\n",
       "90599    Gray , S. W. , Armstrong , K. , DeMichele , A. , Schwartz , J. S. , Hornik , R. C.   \n",
       "212251                                                                                <unk>   \n",
       "92052                                                                        Uvarov , D. L.   \n",
       "118157                                                                          <unk> , WFP   \n",
       "114525                                                                                <unk>   \n",
       "\n",
       "                                           journal    year  \n",
       "90599                                       Cancer  2009.0  \n",
       "212251                                       <unk>  2014.0  \n",
       "92052    Programming and Computer Software , <unk>  2000.0  \n",
       "118157                                       <unk>     0.0  \n",
       "114525                                       <unk>  2016.0  "
      ]
     },
     "execution_count": 7,
     "metadata": {},
     "output_type": "execute_result"
    }
   ],
   "source": [
    "mapping = map.copy()\n",
    "bool_mask = (y_val_ == 1) & ~(y_val_pred >= 0.5)\n",
    "columns = ['author', 'title', 'journal']\n",
    "df_examine = hp.examine_data(data['val_1'], data['val_2'], columns, bool_mask, mapping)\n",
    "df_examine.sample(5)"
   ]
  },
  {
   "cell_type": "markdown",
   "metadata": {},
   "source": [
    "# Save model and histories "
   ]
  },
  {
   "cell_type": "code",
   "execution_count": 8,
   "metadata": {
    "ExecuteTime": {
     "end_time": "2018-04-12T21:51:21.415206Z",
     "start_time": "2018-04-12T21:51:21.050809Z"
    }
   },
   "outputs": [],
   "source": [
    "pd.DataFrame(histories).to_csv('../data/histories/crossref-cermine-fasttext.csv', index=False)\n",
    "model.save_weights('../data/models/crossref-cermine-fasttext-base-1-num-null')"
   ]
  },
  {
   "cell_type": "markdown",
   "metadata": {},
   "source": [
    "# Test model "
   ]
  },
  {
   "cell_type": "code",
   "execution_count": 9,
   "metadata": {
    "ExecuteTime": {
     "end_time": "2018-04-12T21:51:26.898830Z",
     "start_time": "2018-04-12T21:51:23.802014Z"
    }
   },
   "outputs": [
    {
     "name": "stdout",
     "output_type": "stream",
     "text": [
      "              precision    recall  f1-score   support\n",
      "\n",
      "           0    0.99824   0.99951   0.99888    214019\n",
      "           1    0.94216   0.81796   0.87568      2071\n",
      "\n",
      "   micro avg    0.99777   0.99777   0.99777    216090\n",
      "   macro avg    0.97020   0.90874   0.93728    216090\n",
      "weighted avg    0.99770   0.99777   0.99770    216090\n",
      "\n",
      "[[213915    104]\n",
      " [   377   1694]]\n"
     ]
    }
   ],
   "source": [
    "model.load_weights('../data/models/crossref-cermine-fasttext-base-1-num-null')\n",
    "y_test_pred = model.predict(X_test, batch_size=8102)[:,1]\n",
    "y_test_ = data['test_y'].values.squeeze()\n",
    "print(classification_report(y_test_, y_test_pred >= 0.5, digits=5))\n",
    "print(confusion_matrix(y_test_, y_test_pred >= 0.5))"
   ]
  },
  {
   "cell_type": "code",
   "execution_count": null,
   "metadata": {},
   "outputs": [],
   "source": []
  }
 ],
 "metadata": {
  "kernelspec": {
   "display_name": "Python 3",
   "language": "python",
   "name": "python3"
  },
  "language_info": {
   "codemirror_mode": {
    "name": "ipython",
    "version": 3
   },
   "file_extension": ".py",
   "mimetype": "text/x-python",
   "name": "python",
   "nbconvert_exporter": "python",
   "pygments_lexer": "ipython3",
   "version": "3.7.3"
  },
  "varInspector": {
   "cols": {
    "lenName": 16,
    "lenType": 16,
    "lenVar": 40
   },
   "kernels_config": {
    "python": {
     "delete_cmd_postfix": "",
     "delete_cmd_prefix": "del ",
     "library": "var_list.py",
     "varRefreshCmd": "print(var_dic_list())"
    },
    "r": {
     "delete_cmd_postfix": ") ",
     "delete_cmd_prefix": "rm(",
     "library": "var_list.r",
     "varRefreshCmd": "cat(var_dic_list()) "
    }
   },
   "types_to_exclude": [
    "module",
    "function",
    "builtin_function_or_method",
    "instance",
    "_Feature"
   ],
   "window_display": false
  }
 },
 "nbformat": 4,
 "nbformat_minor": 2
}
