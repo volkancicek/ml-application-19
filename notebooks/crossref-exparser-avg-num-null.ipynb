{
 "cells": [
  {
   "cell_type": "code",
   "execution_count": 1,
   "metadata": {
    "ExecuteTime": {
     "end_time": "2018-04-12T19:27:23.665689Z",
     "start_time": "2018-04-12T19:27:20.582747Z"
    }
   },
   "outputs": [
    {
     "name": "stderr",
     "output_type": "stream",
     "text": [
      "Using TensorFlow backend.\n"
     ]
    }
   ],
   "source": [
    "import sys\n",
    "import os\n",
    "import re\n",
    "sys.path.append('../scripts')\n",
    "\n",
    "import numpy as np\n",
    "import pandas as pd\n",
    "import matplotlib.pyplot as plt\n",
    "import seaborn as sns\n",
    "import helpers as hp\n",
    "import pickle as pkl\n",
    "import itertools as it\n",
    "\n",
    "from collections import OrderedDict, defaultdict\n",
    "\n",
    "from sklearn.metrics import f1_score, precision_score, recall_score,\\\n",
    "                            average_precision_score, roc_auc_score,\\\n",
    "                            roc_curve, precision_recall_curve, confusion_matrix,\\\n",
    "                            accuracy_score, classification_report\n",
    "\n",
    "from IPython.core.interactiveshell import InteractiveShell\n",
    "from matplotlib import rcParams\n",
    "from importlib import reload\n",
    "from model_generator import deep_er_model_generator\n",
    "pd.options.display.max_colwidth = 1000\n",
    "\n",
    "rcParams['font.family'] = 'serif'\n",
    "rcParams['font.serif'] = 'times new roman'\n",
    "\n",
    "%config InlineBackend.figure_format = 'retina'\n",
    "%matplotlib inline"
   ]
  },
  {
   "cell_type": "markdown",
   "metadata": {},
   "source": [
    "# Load data "
   ]
  },
  {
   "cell_type": "code",
   "execution_count": 2,
   "metadata": {
    "ExecuteTime": {
     "end_time": "2018-04-12T21:41:12.001384Z",
     "start_time": "2018-04-12T21:40:47.012379Z"
    }
   },
   "outputs": [],
   "source": [
    "reload(hp)\n",
    "\n",
    "with open('../data/embeddings/glove-300.map', 'rb') as f:\n",
    "    map = pkl.load(f)\n",
    "\n",
    "data_dir = os.path.join('..','data')\n",
    "source_dir = os.path.join(data_dir,'split','crossref/exparser')\n",
    "data = hp.load_data(source_dir)\n",
    "\n",
    "datasets = ['train_1', 'val_1', 'test_1', 'train_2', 'val_2', 'test_2']\n",
    "\n",
    "for data_name in datasets:\n",
    "    data[data_name] = data[data_name].fillna(0)\n",
    "\n",
    "doc_freqs_1, doc_freqs_2 = hp.get_document_frequencies('../data/converted/crossref/exparser/', mapping=map)\n",
    "nan_idx = map['word2idx']['NaN']"
   ]
  },
  {
   "cell_type": "markdown",
   "metadata": {},
   "source": [
    "# Generate model"
   ]
  },
  {
   "cell_type": "code",
   "execution_count": 3,
   "metadata": {
    "ExecuteTime": {
     "end_time": "2018-04-12T21:41:28.691606Z",
     "start_time": "2018-04-12T21:41:20.426588Z"
    },
    "scrolled": true
   },
   "outputs": [
    {
     "name": "stderr",
     "output_type": "stream",
     "text": [
      "WARNING: Logging before flag parsing goes to stderr.\n",
      "W0722 00:48:31.737127 11320 deprecation_wrapper.py:119] From D:\\Anaconda3\\lib\\site-packages\\keras\\backend\\tensorflow_backend.py:74: The name tf.get_default_graph is deprecated. Please use tf.compat.v1.get_default_graph instead.\n",
      "\n",
      "W0722 00:48:33.082754 11320 deprecation_wrapper.py:119] From D:\\Anaconda3\\lib\\site-packages\\keras\\backend\\tensorflow_backend.py:517: The name tf.placeholder is deprecated. Please use tf.compat.v1.placeholder instead.\n",
      "\n",
      "W0722 00:49:07.045530 11320 deprecation_wrapper.py:119] From D:\\Anaconda3\\lib\\site-packages\\keras\\backend\\tensorflow_backend.py:4138: The name tf.random_uniform is deprecated. Please use tf.random.uniform instead.\n",
      "\n",
      "W0722 00:49:07.329819 11320 deprecation_wrapper.py:119] From D:\\Anaconda3\\lib\\site-packages\\keras\\backend\\tensorflow_backend.py:174: The name tf.get_default_session is deprecated. Please use tf.compat.v1.get_default_session instead.\n",
      "\n",
      "W0722 00:49:07.334671 11320 deprecation_wrapper.py:119] From D:\\Anaconda3\\lib\\site-packages\\keras\\backend\\tensorflow_backend.py:181: The name tf.ConfigProto is deprecated. Please use tf.compat.v1.ConfigProto instead.\n",
      "\n"
     ]
    },
    {
     "name": "stdout",
     "output_type": "stream",
     "text": [
      "Number of inputs to dense layer: 14\n"
     ]
    }
   ],
   "source": [
    "histories = dict(acc=list(), val_acc=list(), loss=list(), val_loss=list())\n",
    "model, X_train, X_val, X_test, y_train, y_val, y_test = \\\n",
    "deep_er_model_generator(data,\n",
    "                        embedding_file = '../data/embeddings/glove-300.matrix.npy',\n",
    "                        text_columns = ['author', 'title', 'journal'],\n",
    "                        numeric_columns = ['year'],\n",
    "                        text_nan_idx=nan_idx,\n",
    "                        num_nan_val=0,\n",
    "                        text_sim_metrics=['cosine'],\n",
    "                        text_compositions=['average'],\n",
    "                        numeric_sim_metrics=['min_max_ratio', 'scaled_inverse_lp', 'unscaled_inverse_lp'],\n",
    "                        dense_nodes=[32, 16, 8],\n",
    "                        document_frequencies=(doc_freqs_1, doc_freqs_2),\n",
    "                        idf_smoothing=2,\n",
    "                        make_isna=True)"
   ]
  },
  {
   "cell_type": "markdown",
   "metadata": {},
   "source": [
    "# Train model "
   ]
  },
  {
   "cell_type": "code",
   "execution_count": 4,
   "metadata": {
    "ExecuteTime": {
     "end_time": "2018-04-12T21:52:12.328428Z",
     "start_time": "2018-04-12T21:51:42.009377Z"
    }
   },
   "outputs": [
    {
     "name": "stderr",
     "output_type": "stream",
     "text": [
      "W0722 00:51:18.361976 11320 deprecation_wrapper.py:119] From D:\\Anaconda3\\lib\\site-packages\\keras\\optimizers.py:790: The name tf.train.Optimizer is deprecated. Please use tf.compat.v1.train.Optimizer instead.\n",
      "\n",
      "W0722 00:51:18.464844 11320 deprecation.py:323] From D:\\Anaconda3\\lib\\site-packages\\tensorflow\\python\\ops\\nn_impl.py:180: add_dispatch_support.<locals>.wrapper (from tensorflow.python.ops.array_ops) is deprecated and will be removed in a future version.\n",
      "Instructions for updating:\n",
      "Use tf.where in 2.0, which has the same broadcast rule as np.where\n"
     ]
    },
    {
     "name": "stdout",
     "output_type": "stream",
     "text": [
      "Train on 1841270 samples, validate on 230159 samples\n",
      "Epoch 1/10\n",
      "1841270/1841270 [==============================] - 409s 222us/step - loss: 0.2065 - acc: 0.9705 - val_loss: 0.0501 - val_acc: 0.9899\n",
      "Epoch 2/10\n",
      "1841270/1841270 [==============================] - 320s 174us/step - loss: 0.0294 - acc: 0.9906 - val_loss: 0.0169 - val_acc: 0.9949\n",
      "Epoch 3/10\n",
      "1841270/1841270 [==============================] - 276s 150us/step - loss: 0.0118 - acc: 0.9968 - val_loss: 0.0093 - val_acc: 0.9975\n",
      "Epoch 4/10\n",
      "1841270/1841270 [==============================] - 279s 151us/step - loss: 0.0087 - acc: 0.9976 - val_loss: 0.0085 - val_acc: 0.9976\n",
      "Epoch 5/10\n",
      "1841270/1841270 [==============================] - 270s 147us/step - loss: 0.0082 - acc: 0.9977 - val_loss: 0.0082 - val_acc: 0.9976\n",
      "Epoch 6/10\n",
      "1841270/1841270 [==============================] - 274s 149us/step - loss: 0.0080 - acc: 0.9978 - val_loss: 0.0081 - val_acc: 0.9977\n",
      "Epoch 7/10\n",
      "1841270/1841270 [==============================] - 269s 146us/step - loss: 0.0079 - acc: 0.9979 - val_loss: 0.0079 - val_acc: 0.9978\n",
      "Epoch 8/10\n",
      "1841270/1841270 [==============================] - 271s 147us/step - loss: 0.0078 - acc: 0.9979 - val_loss: 0.0078 - val_acc: 0.9978\n",
      "Epoch 9/10\n",
      "1841270/1841270 [==============================] - 344s 187us/step - loss: 0.0077 - acc: 0.9979 - val_loss: 0.0077 - val_acc: 0.9978\n",
      "Epoch 10/10\n",
      "1841270/1841270 [==============================] - 215s 117us/step - loss: 0.0076 - acc: 0.9979 - val_loss: 0.0076 - val_acc: 0.9978\n"
     ]
    }
   ],
   "source": [
    "model.compile(optimizer='adam', loss='binary_crossentropy', metrics=['acc'])\n",
    "history = model.fit(X_train, y_train, epochs=10, batch_size=16384,\n",
    "                    validation_data=(X_val, y_val),\n",
    "                    shuffle=True)\n",
    "\n",
    "histories['acc'].extend(history.history['acc'])\n",
    "histories['val_acc'].extend(history.history['val_acc'])\n",
    "histories['loss'].extend(history.history['loss'])\n",
    "histories['val_loss'].extend(history.history['val_loss'])"
   ]
  },
  {
   "cell_type": "markdown",
   "metadata": {},
   "source": [
    "# Learning curves"
   ]
  },
  {
   "cell_type": "code",
   "execution_count": 5,
   "metadata": {
    "ExecuteTime": {
     "end_time": "2018-04-12T21:53:06.430610Z",
     "start_time": "2018-04-12T21:53:06.048975Z"
    }
   },
   "outputs": [
    {
     "data": {
      "image/png": "[encoded data removed]",
      "text/plain": [
       "<Figure size 1152x432 with 2 Axes>"
      ]
     },
     "metadata": {
      "image/png": {
       "height": 374,
       "width": 943
      },
      "needs_background": "light"
     },
     "output_type": "display_data"
    }
   ],
   "source": [
    "fig, axes = plt.subplots(1, 2, figsize=(16,6))\n",
    "axes[0].plot(histories['loss'], label='loss')\n",
    "axes[0].plot(histories['val_loss'], label='val_loss')\n",
    "axes[0].set_ylim(0, 0.02)\n",
    "axes[1].plot(histories['acc'], label='acc')\n",
    "axes[1].plot(histories['val_acc'], label='val_acc')\n",
    "axes[1].set_ylim(.99, 1)\n",
    "\n",
    "for ax in axes:\n",
    "    ax.legend()\n",
    "    ax.grid(True)\n",
    "    ax.set(xlabel='epoch')"
   ]
  },
  {
   "cell_type": "markdown",
   "metadata": {},
   "source": [
    "# Evaluate model "
   ]
  },
  {
   "cell_type": "code",
   "execution_count": 6,
   "metadata": {
    "ExecuteTime": {
     "end_time": "2018-04-12T21:53:11.515998Z",
     "start_time": "2018-04-12T21:53:08.723045Z"
    }
   },
   "outputs": [
    {
     "name": "stdout",
     "output_type": "stream",
     "text": [
      "              precision    recall  f1-score   support\n",
      "\n",
      "           0       1.00      1.00      1.00    227840\n",
      "           1       0.95      0.82      0.88      2319\n",
      "\n",
      "   micro avg       1.00      1.00      1.00    230159\n",
      "   macro avg       0.98      0.91      0.94    230159\n",
      "weighted avg       1.00      1.00      1.00    230159\n",
      "\n",
      "[[227745     95]\n",
      " [   408   1911]]\n"
     ]
    }
   ],
   "source": [
    "y_val_pred = model.predict(X_val, batch_size=8192)[:,1]\n",
    "y_val_ = data['val_y'].values.squeeze()\n",
    "print(classification_report(y_val_, y_val_pred >= 0.5))\n",
    "print(confusion_matrix(y_val_, y_val_pred >= 0.5))"
   ]
  },
  {
   "cell_type": "code",
   "execution_count": 7,
   "metadata": {
    "ExecuteTime": {
     "end_time": "2018-04-12T21:45:49.865322Z",
     "start_time": "2018-04-12T21:45:47.406682Z"
    },
    "scrolled": true
   },
   "outputs": [
    {
     "data": {
      "text/html": [
       "<div>\n",
       "<style scoped>\n",
       "    .dataframe tbody tr th:only-of-type {\n",
       "        vertical-align: middle;\n",
       "    }\n",
       "\n",
       "    .dataframe tbody tr th {\n",
       "        vertical-align: top;\n",
       "    }\n",
       "\n",
       "    .dataframe thead th {\n",
       "        text-align: right;\n",
       "    }\n",
       "</style>\n",
       "<table border=\"1\" class=\"dataframe\">\n",
       "  <thead>\n",
       "    <tr style=\"text-align: right;\">\n",
       "      <th></th>\n",
       "      <th>id1</th>\n",
       "      <th>author</th>\n",
       "      <th>title</th>\n",
       "      <th>journal</th>\n",
       "      <th>year</th>\n",
       "      <th>id2</th>\n",
       "      <th>author</th>\n",
       "      <th>title</th>\n",
       "      <th>journal</th>\n",
       "      <th>year</th>\n",
       "    </tr>\n",
       "  </thead>\n",
       "  <tbody>\n",
       "    <tr>\n",
       "      <th>210094</th>\n",
       "      <td>8723975c-ac03-11e9-a3dc-04ea56df376a</td>\n",
       "      <td>&lt;unk&gt; Calendar , &lt;unk&gt; Mathematics and Computers</td>\n",
       "      <td>&lt;unk&gt;</td>\n",
       "      <td>&lt;unk&gt;</td>\n",
       "      <td>2001.0</td>\n",
       "      <td>8721280a-ac03-11e9-8ab2-04ea56df376a</td>\n",
       "      <td>&lt;unk&gt;</td>\n",
       "      <td>IMACS Calendar</td>\n",
       "      <td>&lt;unk&gt;</td>\n",
       "      <td>2001.0</td>\n",
       "    </tr>\n",
       "    <tr>\n",
       "      <th>142638</th>\n",
       "      <td>94be564c-ac03-11e9-8506-04ea56df376a</td>\n",
       "      <td>&lt;unk&gt;</td>\n",
       "      <td>Daloz &lt;unk&gt; &lt;unk&gt; and Socio-Political &lt;unk&gt;</td>\n",
       "      <td>&lt;unk&gt;</td>\n",
       "      <td>2013.0</td>\n",
       "      <td>94c029c2-ac03-11e9-b593-04ea56df376a</td>\n",
       "      <td>Exploring Socio-Political Aspects</td>\n",
       "      <td>Daloz J.-P</td>\n",
       "      <td>&lt;unk&gt;</td>\n",
       "      <td>2013.0</td>\n",
       "    </tr>\n",
       "    <tr>\n",
       "      <th>104245</th>\n",
       "      <td>83a5fa24-ac03-11e9-a7d3-04ea56df376a</td>\n",
       "      <td>&lt;unk&gt; The Lancet</td>\n",
       "      <td>Hobel , &lt;unk&gt;</td>\n",
       "      <td>&lt;unk&gt;</td>\n",
       "      <td>1980.0</td>\n",
       "      <td>83a90550-ac03-11e9-93ed-04ea56df376a</td>\n",
       "      <td>315 : 8158 The</td>\n",
       "      <td>Hobel , &lt;unk&gt;</td>\n",
       "      <td>&lt;unk&gt;</td>\n",
       "      <td>1980.0</td>\n",
       "    </tr>\n",
       "    <tr>\n",
       "      <th>173255</th>\n",
       "      <td>864c8e8c-ac03-11e9-bfcb-04ea56df376a</td>\n",
       "      <td>&lt;unk&gt; &lt;unk&gt; Image Classification Using Wavelet Completed Local Binary Pattern Descriptor</td>\n",
       "      <td>&lt;unk&gt; Taha H. and &lt;unk&gt; A and &lt;unk&gt; Nasrin M</td>\n",
       "      <td>&lt;unk&gt;</td>\n",
       "      <td>2017.0</td>\n",
       "      <td>864b7dd8-ac03-11e9-9f3a-04ea56df376a</td>\n",
       "      <td>Texture image classification using wavelet completed local binary pattern descriptor ( &lt;unk&gt;</td>\n",
       "      <td>&lt;unk&gt; TH and &lt;unk&gt; AA and &lt;unk&gt; NM</td>\n",
       "      <td>&lt;unk&gt;</td>\n",
       "      <td>0.0</td>\n",
       "    </tr>\n",
       "    <tr>\n",
       "      <th>23803</th>\n",
       "      <td>7d2fc218-ac03-11e9-a275-04ea56df376a</td>\n",
       "      <td>Einige Versuche mit &lt;unk&gt; &lt;unk&gt; von Insulin</td>\n",
       "      <td>1 ] SALEN E</td>\n",
       "      <td>&lt;unk&gt;</td>\n",
       "      <td>2009.0</td>\n",
       "      <td>7d32316e-ac03-11e9-8fc2-04ea56df376a</td>\n",
       "      <td>&lt;unk&gt; Versuche Mit &lt;unk&gt; &lt;unk&gt; von &lt;unk&gt; Acta Medica Scandinavica 60 ( 1 ) : &lt;unk&gt;</td>\n",
       "      <td>SALEN ERNST</td>\n",
       "      <td>&lt;unk&gt;</td>\n",
       "      <td>2009.0</td>\n",
       "    </tr>\n",
       "  </tbody>\n",
       "</table>\n",
       "</div>"
      ],
      "text/plain": [
       "                                         id1  \\\n",
       "210094  8723975c-ac03-11e9-a3dc-04ea56df376a   \n",
       "142638  94be564c-ac03-11e9-8506-04ea56df376a   \n",
       "104245  83a5fa24-ac03-11e9-a7d3-04ea56df376a   \n",
       "173255  864c8e8c-ac03-11e9-bfcb-04ea56df376a   \n",
       "23803   7d2fc218-ac03-11e9-a275-04ea56df376a   \n",
       "\n",
       "                                                                                           author  \\\n",
       "210094                                           <unk> Calendar , <unk> Mathematics and Computers   \n",
       "142638                                                                                      <unk>   \n",
       "104245                                                                           <unk> The Lancet   \n",
       "173255   <unk> <unk> Image Classification Using Wavelet Completed Local Binary Pattern Descriptor   \n",
       "23803                                                 Einige Versuche mit <unk> <unk> von Insulin   \n",
       "\n",
       "                                                title journal    year  \\\n",
       "210094                                          <unk>   <unk>  2001.0   \n",
       "142638    Daloz <unk> <unk> and Socio-Political <unk>   <unk>  2013.0   \n",
       "104245                                  Hobel , <unk>   <unk>  1980.0   \n",
       "173255   <unk> Taha H. and <unk> A and <unk> Nasrin M   <unk>  2017.0   \n",
       "23803                                     1 ] SALEN E   <unk>  2009.0   \n",
       "\n",
       "                                         id2  \\\n",
       "210094  8721280a-ac03-11e9-8ab2-04ea56df376a   \n",
       "142638  94c029c2-ac03-11e9-b593-04ea56df376a   \n",
       "104245  83a90550-ac03-11e9-93ed-04ea56df376a   \n",
       "173255  864b7dd8-ac03-11e9-9f3a-04ea56df376a   \n",
       "23803   7d32316e-ac03-11e9-8fc2-04ea56df376a   \n",
       "\n",
       "                                                                                               author  \\\n",
       "210094                                                                                          <unk>   \n",
       "142638                                                              Exploring Socio-Political Aspects   \n",
       "104245                                                                                 315 : 8158 The   \n",
       "173255   Texture image classification using wavelet completed local binary pattern descriptor ( <unk>   \n",
       "23803              <unk> Versuche Mit <unk> <unk> von <unk> Acta Medica Scandinavica 60 ( 1 ) : <unk>   \n",
       "\n",
       "                                      title journal    year  \n",
       "210094                       IMACS Calendar   <unk>  2001.0  \n",
       "142638                           Daloz J.-P   <unk>  2013.0  \n",
       "104245                        Hobel , <unk>   <unk>  1980.0  \n",
       "173255   <unk> TH and <unk> AA and <unk> NM   <unk>     0.0  \n",
       "23803                           SALEN ERNST   <unk>  2009.0  "
      ]
     },
     "execution_count": 7,
     "metadata": {},
     "output_type": "execute_result"
    }
   ],
   "source": [
    "mapping = map.copy()\n",
    "bool_mask = (y_val_ == 1) & ~(y_val_pred >= 0.5)\n",
    "columns = ['author', 'title', 'journal']\n",
    "df_examine = hp.examine_data(data['val_1'], data['val_2'], columns, bool_mask, mapping)\n",
    "df_examine.sample(5)"
   ]
  },
  {
   "cell_type": "markdown",
   "metadata": {},
   "source": [
    "# Save model and histories "
   ]
  },
  {
   "cell_type": "code",
   "execution_count": 8,
   "metadata": {
    "ExecuteTime": {
     "end_time": "2018-04-12T21:51:21.415206Z",
     "start_time": "2018-04-12T21:51:21.050809Z"
    }
   },
   "outputs": [],
   "source": [
    "pd.DataFrame(histories).to_csv('../data/histories/crossref-exparser.csv', index=False)\n",
    "model.save_weights('../data/models/crossref-exparser-base-1-num-null')"
   ]
  },
  {
   "cell_type": "markdown",
   "metadata": {},
   "source": [
    "# Test model "
   ]
  },
  {
   "cell_type": "code",
   "execution_count": 9,
   "metadata": {
    "ExecuteTime": {
     "end_time": "2018-04-12T21:51:26.898830Z",
     "start_time": "2018-04-12T21:51:23.802014Z"
    }
   },
   "outputs": [
    {
     "name": "stdout",
     "output_type": "stream",
     "text": [
      "              precision    recall  f1-score   support\n",
      "\n",
      "           0    0.99819   0.99963   0.99891    227867\n",
      "           1    0.95670   0.81937   0.88273      2292\n",
      "\n",
      "   micro avg    0.99783   0.99783   0.99783    230159\n",
      "   macro avg    0.97744   0.90950   0.94082    230159\n",
      "weighted avg    0.99777   0.99783   0.99775    230159\n",
      "\n",
      "[[227782     85]\n",
      " [   414   1878]]\n"
     ]
    }
   ],
   "source": [
    "model.load_weights('../data/models/crossref-exparser-base-1-num-null')\n",
    "y_test_pred = model.predict(X_test, batch_size=8102)[:,1]\n",
    "y_test_ = data['test_y'].values.squeeze()\n",
    "print(classification_report(y_test_, y_test_pred >= 0.5, digits=5))\n",
    "print(confusion_matrix(y_test_, y_test_pred >= 0.5))"
   ]
  },
  {
   "cell_type": "code",
   "execution_count": null,
   "metadata": {
    "collapsed": true
   },
   "outputs": [],
   "source": []
  }
 ],
 "metadata": {
  "kernelspec": {
   "display_name": "Python 3",
   "language": "python",
   "name": "python3"
  },
  "language_info": {
   "codemirror_mode": {
    "name": "ipython",
    "version": 3
   },
   "file_extension": ".py",
   "mimetype": "text/x-python",
   "name": "python",
   "nbconvert_exporter": "python",
   "pygments_lexer": "ipython3",
   "version": "3.7.3"
  },
  "varInspector": {
   "cols": {
    "lenName": 16,
    "lenType": 16,
    "lenVar": 40
   },
   "kernels_config": {
    "python": {
     "delete_cmd_postfix": "",
     "delete_cmd_prefix": "del ",
     "library": "var_list.py",
     "varRefreshCmd": "print(var_dic_list())"
    },
    "r": {
     "delete_cmd_postfix": ") ",
     "delete_cmd_prefix": "rm(",
     "library": "var_list.r",
     "varRefreshCmd": "cat(var_dic_list()) "
    }
   },
   "types_to_exclude": [
    "module",
    "function",
    "builtin_function_or_method",
    "instance",
    "_Feature"
   ],
   "window_display": false
  }
 },
 "nbformat": 4,
 "nbformat_minor": 2
}
