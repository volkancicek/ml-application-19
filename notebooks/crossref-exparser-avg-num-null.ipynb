{
 "cells": [
  {
   "cell_type": "code",
   "execution_count": 1,
   "metadata": {
    "ExecuteTime": {
     "end_time": "2018-04-12T19:27:23.665689Z",
     "start_time": "2018-04-12T19:27:20.582747Z"
    }
   },
   "outputs": [
    {
     "name": "stderr",
     "output_type": "stream",
     "text": [
      "Using TensorFlow backend.\n"
     ]
    }
   ],
   "source": [
    "import sys\n",
    "import os\n",
    "import re\n",
    "sys.path.append('../scripts')\n",
    "\n",
    "import numpy as np\n",
    "import pandas as pd\n",
    "import matplotlib.pyplot as plt\n",
    "import seaborn as sns\n",
    "import helpers as hp\n",
    "import pickle as pkl\n",
    "import itertools as it\n",
    "\n",
    "from collections import OrderedDict, defaultdict\n",
    "\n",
    "from sklearn.metrics import f1_score, precision_score, recall_score,\\\n",
    "                            average_precision_score, roc_auc_score,\\\n",
    "                            roc_curve, precision_recall_curve, confusion_matrix,\\\n",
    "                            accuracy_score, classification_report\n",
    "\n",
    "from IPython.core.interactiveshell import InteractiveShell\n",
    "from matplotlib import rcParams\n",
    "from importlib import reload\n",
    "from model_generator import deep_er_model_generator\n",
    "pd.options.display.max_colwidth = 1000\n",
    "\n",
    "rcParams['font.family'] = 'serif'\n",
    "rcParams['font.serif'] = 'times new roman'\n",
    "\n",
    "%config InlineBackend.figure_format = 'retina'\n",
    "%matplotlib inline"
   ]
  },
  {
   "cell_type": "markdown",
   "metadata": {},
   "source": [
    "# Load data "
   ]
  },
  {
   "cell_type": "code",
   "execution_count": 2,
   "metadata": {
    "ExecuteTime": {
     "end_time": "2018-04-12T21:41:12.001384Z",
     "start_time": "2018-04-12T21:40:47.012379Z"
    }
   },
   "outputs": [],
   "source": [
    "reload(hp)\n",
    "\n",
    "with open('../data/embeddings/glove-300.map', 'rb') as f:\n",
    "    map = pkl.load(f)\n",
    "\n",
    "data_dir = os.path.join('..','data')\n",
    "source_dir = os.path.join(data_dir,'split','crossref/exparser')\n",
    "data = hp.load_data(source_dir)\n",
    "\n",
    "datasets = ['train_1', 'val_1', 'test_1', 'train_2', 'val_2', 'test_2']\n",
    "\n",
    "for data_name in datasets:\n",
    "    data[data_name] = data[data_name].fillna(0)\n",
    "\n",
    "doc_freqs_1, doc_freqs_2 = hp.get_document_frequencies('../data/converted/crossref/exparser/', mapping=map)\n",
    "nan_idx = map['word2idx']['NaN']"
   ]
  },
  {
   "cell_type": "markdown",
   "metadata": {},
   "source": [
    "# Generate model"
   ]
  },
  {
   "cell_type": "code",
   "execution_count": 3,
   "metadata": {
    "ExecuteTime": {
     "end_time": "2018-04-12T21:41:28.691606Z",
     "start_time": "2018-04-12T21:41:20.426588Z"
    }
   },
   "outputs": [
    {
     "name": "stderr",
     "output_type": "stream",
     "text": [
      "WARNING: Logging before flag parsing goes to stderr.\n",
      "W0721 20:30:25.690151  9008 deprecation_wrapper.py:119] From D:\\Anaconda3\\lib\\site-packages\\keras\\backend\\tensorflow_backend.py:74: The name tf.get_default_graph is deprecated. Please use tf.compat.v1.get_default_graph instead.\n",
      "\n",
      "W0721 20:30:26.034388  9008 deprecation_wrapper.py:119] From D:\\Anaconda3\\lib\\site-packages\\keras\\backend\\tensorflow_backend.py:517: The name tf.placeholder is deprecated. Please use tf.compat.v1.placeholder instead.\n",
      "\n",
      "W0721 20:31:00.914971  9008 deprecation_wrapper.py:119] From D:\\Anaconda3\\lib\\site-packages\\keras\\backend\\tensorflow_backend.py:4138: The name tf.random_uniform is deprecated. Please use tf.random.uniform instead.\n",
      "\n",
      "W0721 20:31:01.288368  9008 deprecation_wrapper.py:119] From D:\\Anaconda3\\lib\\site-packages\\keras\\backend\\tensorflow_backend.py:174: The name tf.get_default_session is deprecated. Please use tf.compat.v1.get_default_session instead.\n",
      "\n",
      "W0721 20:31:01.294053  9008 deprecation_wrapper.py:119] From D:\\Anaconda3\\lib\\site-packages\\keras\\backend\\tensorflow_backend.py:181: The name tf.ConfigProto is deprecated. Please use tf.compat.v1.ConfigProto instead.\n",
      "\n"
     ]
    },
    {
     "name": "stdout",
     "output_type": "stream",
     "text": [
      "Number of inputs to dense layer: 14\n"
     ]
    }
   ],
   "source": [
    "histories = dict(acc=list(), val_acc=list(), loss=list(), val_loss=list())\n",
    "model, X_train, X_val, X_test, y_train, y_val, y_test = \\\n",
    "deep_er_model_generator(data,\n",
    "                        embedding_file = '../data/embeddings/glove-300.matrix.npy',\n",
    "                        text_columns = ['author', 'title', 'journal'],\n",
    "                        numeric_columns = ['year'],\n",
    "                        text_nan_idx=nan_idx,\n",
    "                        num_nan_val=0,\n",
    "                        text_sim_metrics=['cosine'],\n",
    "                        text_compositions=['average'],\n",
    "                        numeric_sim_metrics=['min_max_ratio', 'scaled_inverse_lp', 'unscaled_inverse_lp'],\n",
    "                        dense_nodes=[32, 16, 8],\n",
    "                        document_frequencies=(doc_freqs_1, doc_freqs_2),\n",
    "                        idf_smoothing=2,\n",
    "                        make_isna=True)"
   ]
  },
  {
   "cell_type": "markdown",
   "metadata": {},
   "source": [
    "# Train model "
   ]
  },
  {
   "cell_type": "code",
   "execution_count": 4,
   "metadata": {
    "ExecuteTime": {
     "end_time": "2018-04-12T21:52:12.328428Z",
     "start_time": "2018-04-12T21:51:42.009377Z"
    }
   },
   "outputs": [
    {
     "name": "stderr",
     "output_type": "stream",
     "text": [
      "W0721 20:33:16.180253  9008 deprecation_wrapper.py:119] From D:\\Anaconda3\\lib\\site-packages\\keras\\optimizers.py:790: The name tf.train.Optimizer is deprecated. Please use tf.compat.v1.train.Optimizer instead.\n",
      "\n",
      "W0721 20:33:16.304883  9008 deprecation.py:323] From D:\\Anaconda3\\lib\\site-packages\\tensorflow\\python\\ops\\nn_impl.py:180: add_dispatch_support.<locals>.wrapper (from tensorflow.python.ops.array_ops) is deprecated and will be removed in a future version.\n",
      "Instructions for updating:\n",
      "Use tf.where in 2.0, which has the same broadcast rule as np.where\n"
     ]
    },
    {
     "name": "stdout",
     "output_type": "stream",
     "text": [
      "Train on 1728716 samples, validate on 216089 samples\n",
      "Epoch 1/10\n",
      "1728716/1728716 [==============================] - 369s 214us/step - loss: 0.1351 - acc: 0.9897 - val_loss: 0.0458 - val_acc: 0.9897\n",
      "Epoch 2/10\n",
      "1728716/1728716 [==============================] - 282s 163us/step - loss: 0.0310 - acc: 0.9901 - val_loss: 0.0225 - val_acc: 0.9897\n",
      "Epoch 3/10\n",
      "1728716/1728716 [==============================] - 268s 155us/step - loss: 0.0181 - acc: 0.9901 - val_loss: 0.0156 - val_acc: 0.9897\n",
      "Epoch 4/10\n",
      "1728716/1728716 [==============================] - 257s 149us/step - loss: 0.0139 - acc: 0.9901 - val_loss: 0.0134 - val_acc: 0.9897\n",
      "Epoch 5/10\n",
      "1728716/1728716 [==============================] - 257s 148us/step - loss: 0.0124 - acc: 0.9954 - val_loss: 0.0121 - val_acc: 0.9973\n",
      "Epoch 6/10\n",
      "1728716/1728716 [==============================] - 255s 147us/step - loss: 0.0110 - acc: 0.9975 - val_loss: 0.0103 - val_acc: 0.9976\n",
      "Epoch 7/10\n",
      "1728716/1728716 [==============================] - 254s 147us/step - loss: 0.0091 - acc: 0.9977 - val_loss: 0.0085 - val_acc: 0.9977\n",
      "Epoch 8/10\n",
      "1728716/1728716 [==============================] - 254s 147us/step - loss: 0.0079 - acc: 0.9977 - val_loss: 0.0077 - val_acc: 0.9977\n",
      "Epoch 9/10\n",
      "1728716/1728716 [==============================] - 255s 147us/step - loss: 0.0074 - acc: 0.9978 - val_loss: 0.0074 - val_acc: 0.9978\n",
      "Epoch 10/10\n",
      "1728716/1728716 [==============================] - 254s 147us/step - loss: 0.0072 - acc: 0.9978 - val_loss: 0.0072 - val_acc: 0.9979\n"
     ]
    }
   ],
   "source": [
    "model.compile(optimizer='adam', loss='binary_crossentropy', metrics=['acc'])\n",
    "history = model.fit(X_train, y_train, epochs=10, batch_size=16384,\n",
    "                    validation_data=(X_val, y_val),\n",
    "                    shuffle=True)\n",
    "\n",
    "histories['acc'].extend(history.history['acc'])\n",
    "histories['val_acc'].extend(history.history['val_acc'])\n",
    "histories['loss'].extend(history.history['loss'])\n",
    "histories['val_loss'].extend(history.history['val_loss'])"
   ]
  },
  {
   "cell_type": "markdown",
   "metadata": {},
   "source": [
    "# Learning curves"
   ]
  },
  {
   "cell_type": "code",
   "execution_count": 5,
   "metadata": {
    "ExecuteTime": {
     "end_time": "2018-04-12T21:53:06.430610Z",
     "start_time": "2018-04-12T21:53:06.048975Z"
    }
   },
   "outputs": [
    {
     "data": {
      "image/png": "[encoded data removed]",
      "text/plain": [
       "<Figure size 1152x432 with 2 Axes>"
      ]
     },
     "metadata": {
      "image/png": {
       "height": 374,
       "width": 943
      },
      "needs_background": "light"
     },
     "output_type": "display_data"
    }
   ],
   "source": [
    "fig, axes = plt.subplots(1, 2, figsize=(16,6))\n",
    "axes[0].plot(histories['loss'], label='loss')\n",
    "axes[0].plot(histories['val_loss'], label='val_loss')\n",
    "axes[0].set_ylim(0, 0.02)\n",
    "axes[1].plot(histories['acc'], label='acc')\n",
    "axes[1].plot(histories['val_acc'], label='val_acc')\n",
    "axes[1].set_ylim(.99, 1)\n",
    "\n",
    "for ax in axes:\n",
    "    ax.legend()\n",
    "    ax.grid(True)\n",
    "    ax.set(xlabel='epoch')"
   ]
  },
  {
   "cell_type": "markdown",
   "metadata": {},
   "source": [
    "# Evaluate model "
   ]
  },
  {
   "cell_type": "code",
   "execution_count": 6,
   "metadata": {
    "ExecuteTime": {
     "end_time": "2018-04-12T21:53:11.515998Z",
     "start_time": "2018-04-12T21:53:08.723045Z"
    }
   },
   "outputs": [
    {
     "name": "stdout",
     "output_type": "stream",
     "text": [
      "              precision    recall  f1-score   support\n",
      "\n",
      "           0       1.00      1.00      1.00    213859\n",
      "           1       0.95      0.84      0.89      2230\n",
      "\n",
      "   micro avg       1.00      1.00      1.00    216089\n",
      "   macro avg       0.97      0.92      0.94    216089\n",
      "weighted avg       1.00      1.00      1.00    216089\n",
      "\n",
      "[[213761     98]\n",
      " [   361   1869]]\n"
     ]
    }
   ],
   "source": [
    "y_val_pred = model.predict(X_val, batch_size=8192)[:,1]\n",
    "y_val_ = data['val_y'].values.squeeze()\n",
    "print(classification_report(y_val_, y_val_pred >= 0.5))\n",
    "print(confusion_matrix(y_val_, y_val_pred >= 0.5))"
   ]
  },
  {
   "cell_type": "code",
   "execution_count": 7,
   "metadata": {
    "ExecuteTime": {
     "end_time": "2018-04-12T21:45:49.865322Z",
     "start_time": "2018-04-12T21:45:47.406682Z"
    },
    "scrolled": true
   },
   "outputs": [
    {
     "data": {
      "text/html": [
       "<div>\n",
       "<style scoped>\n",
       "    .dataframe tbody tr th:only-of-type {\n",
       "        vertical-align: middle;\n",
       "    }\n",
       "\n",
       "    .dataframe tbody tr th {\n",
       "        vertical-align: top;\n",
       "    }\n",
       "\n",
       "    .dataframe thead th {\n",
       "        text-align: right;\n",
       "    }\n",
       "</style>\n",
       "<table border=\"1\" class=\"dataframe\">\n",
       "  <thead>\n",
       "    <tr style=\"text-align: right;\">\n",
       "      <th></th>\n",
       "      <th>id1</th>\n",
       "      <th>author</th>\n",
       "      <th>title</th>\n",
       "      <th>journal</th>\n",
       "      <th>year</th>\n",
       "      <th>id2</th>\n",
       "      <th>author</th>\n",
       "      <th>title</th>\n",
       "      <th>journal</th>\n",
       "      <th>year</th>\n",
       "    </tr>\n",
       "  </thead>\n",
       "  <tbody>\n",
       "    <tr>\n",
       "      <th>198605</th>\n",
       "      <td>3016a00a-abdf-11e9-af8b-04ea56df376a</td>\n",
       "      <td>Universal stress protein &lt;unk&gt; alters abundance of arginine and enhances intracellular survival by ATP binding in mycobacteria</td>\n",
       "      <td>Jia , Q , Hu , X , Shi , D , Zhang , Y , Sun , M , Wang , J , Mi , K , Zhu , G</td>\n",
       "      <td>Scientific Reports [ Internet ] , 2017 March</td>\n",
       "      <td>0.0</td>\n",
       "      <td>301427ba-abdf-11e9-8258-04ea56df376a</td>\n",
       "      <td>Corrigendum : Universal Stress Protein &lt;unk&gt; Alters Abundance of Arginine and Enhances Intracellular Survival by ATP Binding in Mycobacteria</td>\n",
       "      <td>Jia</td>\n",
       "      <td>Scientific Reports</td>\n",
       "      <td>2017.0</td>\n",
       "    </tr>\n",
       "    <tr>\n",
       "      <th>51136</th>\n",
       "      <td>384c315c-abdf-11e9-bf1a-04ea56df376a</td>\n",
       "      <td>Talking About Literacy</td>\n",
       "      <td>Mace , J.</td>\n",
       "      <td>( Aug</td>\n",
       "      <td>2003.0</td>\n",
       "      <td>384d696c-abdf-11e9-99a2-04ea56df376a</td>\n",
       "      <td>&lt;unk&gt;</td>\n",
       "      <td>Mace</td>\n",
       "      <td>&lt;unk&gt;</td>\n",
       "      <td>2003.0</td>\n",
       "    </tr>\n",
       "    <tr>\n",
       "      <th>102674</th>\n",
       "      <td>3284b094-abdf-11e9-9cec-04ea56df376a</td>\n",
       "      <td>&lt;unk&gt;</td>\n",
       "      <td>Nov</td>\n",
       "      <td>&lt;unk&gt;</td>\n",
       "      <td>1973.0</td>\n",
       "      <td>3285e88c-abdf-11e9-8874-04ea56df376a</td>\n",
       "      <td>&lt;unk&gt;</td>\n",
       "      <td>&lt;unk&gt;</td>\n",
       "      <td>&lt;unk&gt; Society of North &lt;unk&gt;</td>\n",
       "      <td>1973.0</td>\n",
       "    </tr>\n",
       "    <tr>\n",
       "      <th>115055</th>\n",
       "      <td>2db50b98-abdf-11e9-bfbf-04ea56df376a</td>\n",
       "      <td>The sun , the Moon , and the Eyeball &lt;unk&gt; Cosmic &lt;unk&gt; ( 1996 ) Katachi &lt;unk&gt; Symmetry 63</td>\n",
       "      <td>Sugiura</td>\n",
       "      <td>&lt;unk&gt;</td>\n",
       "      <td>0.0</td>\n",
       "      <td>2db643c8-abdf-11e9-b1e7-04ea56df376a</td>\n",
       "      <td>The sun , the Moon , and the Eyeball &lt;unk&gt; Cosmic Correspondence</td>\n",
       "      <td>Sugiura , K.</td>\n",
       "      <td>Katachi &lt;unk&gt; Symmetry</td>\n",
       "      <td>1996.0</td>\n",
       "    </tr>\n",
       "    <tr>\n",
       "      <th>123551</th>\n",
       "      <td>398e2d00-abdf-11e9-90d3-04ea56df376a</td>\n",
       "      <td>&lt;unk&gt;</td>\n",
       "      <td>&lt;unk&gt;</td>\n",
       "      <td>&lt;unk&gt;</td>\n",
       "      <td>2002.0</td>\n",
       "      <td>398d63b0-abdf-11e9-9e8a-04ea56df376a</td>\n",
       "      <td>&lt;unk&gt; &lt;unk&gt;</td>\n",
       "      <td>Contents , P.</td>\n",
       "      <td>&lt;unk&gt;</td>\n",
       "      <td>2002.0</td>\n",
       "    </tr>\n",
       "  </tbody>\n",
       "</table>\n",
       "</div>"
      ],
      "text/plain": [
       "                                         id1  \\\n",
       "198605  3016a00a-abdf-11e9-af8b-04ea56df376a   \n",
       "51136   384c315c-abdf-11e9-bf1a-04ea56df376a   \n",
       "102674  3284b094-abdf-11e9-9cec-04ea56df376a   \n",
       "115055  2db50b98-abdf-11e9-bfbf-04ea56df376a   \n",
       "123551  398e2d00-abdf-11e9-90d3-04ea56df376a   \n",
       "\n",
       "                                                                                                                                 author  \\\n",
       "198605   Universal stress protein <unk> alters abundance of arginine and enhances intracellular survival by ATP binding in mycobacteria   \n",
       "51136                                                                                                            Talking About Literacy   \n",
       "102674                                                                                                                            <unk>   \n",
       "115055                                       The sun , the Moon , and the Eyeball <unk> Cosmic <unk> ( 1996 ) Katachi <unk> Symmetry 63   \n",
       "123551                                                                                                                            <unk>   \n",
       "\n",
       "                                                                                  title  \\\n",
       "198605   Jia , Q , Hu , X , Shi , D , Zhang , Y , Sun , M , Wang , J , Mi , K , Zhu , G   \n",
       "51136                                                                         Mace , J.   \n",
       "102674                                                                              Nov   \n",
       "115055                                                                          Sugiura   \n",
       "123551                                                                            <unk>   \n",
       "\n",
       "                                              journal    year  \\\n",
       "198605   Scientific Reports [ Internet ] , 2017 March     0.0   \n",
       "51136                                           ( Aug  2003.0   \n",
       "102674                                          <unk>  1973.0   \n",
       "115055                                          <unk>     0.0   \n",
       "123551                                          <unk>  2002.0   \n",
       "\n",
       "                                         id2  \\\n",
       "198605  301427ba-abdf-11e9-8258-04ea56df376a   \n",
       "51136   384d696c-abdf-11e9-99a2-04ea56df376a   \n",
       "102674  3285e88c-abdf-11e9-8874-04ea56df376a   \n",
       "115055  2db643c8-abdf-11e9-b1e7-04ea56df376a   \n",
       "123551  398d63b0-abdf-11e9-9e8a-04ea56df376a   \n",
       "\n",
       "                                                                                                                                               author  \\\n",
       "198605   Corrigendum : Universal Stress Protein <unk> Alters Abundance of Arginine and Enhances Intracellular Survival by ATP Binding in Mycobacteria   \n",
       "51136                                                                                                                                           <unk>   \n",
       "102674                                                                                                                                          <unk>   \n",
       "115055                                                                               The sun , the Moon , and the Eyeball <unk> Cosmic Correspondence   \n",
       "123551                                                                                                                                    <unk> <unk>   \n",
       "\n",
       "                 title                        journal    year  \n",
       "198605             Jia             Scientific Reports  2017.0  \n",
       "51136             Mace                          <unk>  2003.0  \n",
       "102674           <unk>   <unk> Society of North <unk>  1973.0  \n",
       "115055    Sugiura , K.         Katachi <unk> Symmetry  1996.0  \n",
       "123551   Contents , P.                          <unk>  2002.0  "
      ]
     },
     "execution_count": 7,
     "metadata": {},
     "output_type": "execute_result"
    }
   ],
   "source": [
    "mapping = map.copy()\n",
    "bool_mask = (y_val_ == 1) & ~(y_val_pred >= 0.5)\n",
    "columns = ['author', 'title', 'journal']\n",
    "df_examine = hp.examine_data(data['val_1'], data['val_2'], columns, bool_mask, mapping)\n",
    "df_examine.sample(5)"
   ]
  },
  {
   "cell_type": "markdown",
   "metadata": {},
   "source": [
    "# Save model and histories "
   ]
  },
  {
   "cell_type": "code",
   "execution_count": 8,
   "metadata": {
    "ExecuteTime": {
     "end_time": "2018-04-12T21:51:21.415206Z",
     "start_time": "2018-04-12T21:51:21.050809Z"
    }
   },
   "outputs": [],
   "source": [
    "pd.DataFrame(histories).to_csv('../data/histories/crossref-exparser.csv', index=False)\n",
    "model.save_weights('../data/models/crossref-exparser-base-1-num-null')"
   ]
  },
  {
   "cell_type": "markdown",
   "metadata": {},
   "source": [
    "# Test model "
   ]
  },
  {
   "cell_type": "code",
   "execution_count": 9,
   "metadata": {
    "ExecuteTime": {
     "end_time": "2018-04-12T21:51:26.898830Z",
     "start_time": "2018-04-12T21:51:23.802014Z"
    }
   },
   "outputs": [
    {
     "name": "stdout",
     "output_type": "stream",
     "text": [
      "              precision    recall  f1-score   support\n",
      "\n",
      "           0    0.99841   0.99942   0.99891    214015\n",
      "           1    0.93276   0.83566   0.88155      2075\n",
      "\n",
      "   micro avg    0.99784   0.99784   0.99784    216090\n",
      "   macro avg    0.96558   0.91754   0.94023    216090\n",
      "weighted avg    0.99778   0.99784   0.99778    216090\n",
      "\n",
      "[[213890    125]\n",
      " [   341   1734]]\n"
     ]
    }
   ],
   "source": [
    "model.load_weights('../data/models/crossref-exparser-base-1-num-null')\n",
    "y_test_pred = model.predict(X_test, batch_size=8102)[:,1]\n",
    "y_test_ = data['test_y'].values.squeeze()\n",
    "print(classification_report(y_test_, y_test_pred >= 0.5, digits=5))\n",
    "print(confusion_matrix(y_test_, y_test_pred >= 0.5))"
   ]
  },
  {
   "cell_type": "code",
   "execution_count": null,
   "metadata": {
    "collapsed": true
   },
   "outputs": [],
   "source": []
  }
 ],
 "metadata": {
  "kernelspec": {
   "display_name": "Python 3",
   "language": "python",
   "name": "python3"
  },
  "language_info": {
   "codemirror_mode": {
    "name": "ipython",
    "version": 3
   },
   "file_extension": ".py",
   "mimetype": "text/x-python",
   "name": "python",
   "nbconvert_exporter": "python",
   "pygments_lexer": "ipython3",
   "version": "3.7.3"
  },
  "varInspector": {
   "cols": {
    "lenName": 16,
    "lenType": 16,
    "lenVar": 40
   },
   "kernels_config": {
    "python": {
     "delete_cmd_postfix": "",
     "delete_cmd_prefix": "del ",
     "library": "var_list.py",
     "varRefreshCmd": "print(var_dic_list())"
    },
    "r": {
     "delete_cmd_postfix": ") ",
     "delete_cmd_prefix": "rm(",
     "library": "var_list.r",
     "varRefreshCmd": "cat(var_dic_list()) "
    }
   },
   "types_to_exclude": [
    "module",
    "function",
    "builtin_function_or_method",
    "instance",
    "_Feature"
   ],
   "window_display": false
  }
 },
 "nbformat": 4,
 "nbformat_minor": 2
}
