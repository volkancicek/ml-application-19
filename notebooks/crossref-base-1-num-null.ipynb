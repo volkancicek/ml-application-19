{
 "cells": [
  {
   "cell_type": "code",
   "execution_count": 1,
   "metadata": {
    "ExecuteTime": {
     "end_time": "2018-04-12T19:27:23.665689Z",
     "start_time": "2018-04-12T19:27:20.582747Z"
    }
   },
   "outputs": [
    {
     "name": "stderr",
     "output_type": "stream",
     "text": [
      "Using TensorFlow backend.\n"
     ]
    }
   ],
   "source": [
    "import sys\n",
    "import os\n",
    "import re\n",
    "sys.path.append('../scripts')\n",
    "\n",
    "import numpy as np\n",
    "import pandas as pd\n",
    "import matplotlib.pyplot as plt\n",
    "import seaborn as sns\n",
    "import helpers as hp\n",
    "import pickle as pkl\n",
    "import itertools as it\n",
    "\n",
    "from collections import OrderedDict, defaultdict\n",
    "\n",
    "from sklearn.metrics import f1_score, precision_score, recall_score,\\\n",
    "                            average_precision_score, roc_auc_score,\\\n",
    "                            roc_curve, precision_recall_curve, confusion_matrix,\\\n",
    "                            accuracy_score, classification_report\n",
    "\n",
    "from IPython.core.interactiveshell import InteractiveShell\n",
    "from matplotlib import rcParams\n",
    "from importlib import reload\n",
    "from model_generator import deep_er_model_generator\n",
    "pd.options.display.max_colwidth = 1000\n",
    "\n",
    "rcParams['font.family'] = 'serif'\n",
    "rcParams['font.serif'] = 'times new roman'\n",
    "\n",
    "%config InlineBackend.figure_format = 'retina'\n",
    "%matplotlib inline"
   ]
  },
  {
   "cell_type": "markdown",
   "metadata": {},
   "source": [
    "# Load data "
   ]
  },
  {
   "cell_type": "code",
   "execution_count": 3,
   "metadata": {
    "ExecuteTime": {
     "end_time": "2018-04-12T21:41:12.001384Z",
     "start_time": "2018-04-12T21:40:47.012379Z"
    }
   },
   "outputs": [],
   "source": [
    "reload(hp)\n",
    "\n",
    "with open('../data/embeddings/glove-300.map', 'rb') as f:\n",
    "    map = pkl.load(f)\n",
    "\n",
    "data_dir = os.path.join('..','data')\n",
    "source_dir = os.path.join(data_dir,'split','crossref/cermine')\n",
    "data = hp.load_data(source_dir)\n",
    "\n",
    "datasets = ['train_1', 'val_1', 'test_1', 'train_2', 'val_2', 'test_2']\n",
    "\n",
    "for data_name in datasets:\n",
    "    data[data_name] = data[data_name].fillna(0)\n",
    "\n",
    "doc_freqs_1, doc_freqs_2 = hp.get_document_frequencies('../data/converted/crossref/cermine/', mapping=map)\n",
    "nan_idx = map['word2idx']['NaN']"
   ]
  },
  {
   "cell_type": "markdown",
   "metadata": {},
   "source": [
    "# Generate model"
   ]
  },
  {
   "cell_type": "code",
   "execution_count": 6,
   "metadata": {
    "ExecuteTime": {
     "end_time": "2018-04-12T21:41:28.691606Z",
     "start_time": "2018-04-12T21:41:20.426588Z"
    }
   },
   "outputs": [
    {
     "name": "stderr",
     "output_type": "stream",
     "text": [
      "WARNING: Logging before flag parsing goes to stderr.\n",
      "W0719 23:33:33.452626 13440 deprecation_wrapper.py:119] From D:\\Anaconda3\\lib\\site-packages\\keras\\backend\\tensorflow_backend.py:74: The name tf.get_default_graph is deprecated. Please use tf.compat.v1.get_default_graph instead.\n",
      "\n",
      "W0719 23:33:34.298109 13440 deprecation_wrapper.py:119] From D:\\Anaconda3\\lib\\site-packages\\keras\\backend\\tensorflow_backend.py:517: The name tf.placeholder is deprecated. Please use tf.compat.v1.placeholder instead.\n",
      "\n",
      "W0719 23:34:08.545078 13440 deprecation_wrapper.py:119] From D:\\Anaconda3\\lib\\site-packages\\keras\\backend\\tensorflow_backend.py:4138: The name tf.random_uniform is deprecated. Please use tf.random.uniform instead.\n",
      "\n",
      "W0719 23:34:09.022247 13440 deprecation_wrapper.py:119] From D:\\Anaconda3\\lib\\site-packages\\keras\\backend\\tensorflow_backend.py:174: The name tf.get_default_session is deprecated. Please use tf.compat.v1.get_default_session instead.\n",
      "\n",
      "W0719 23:34:09.028238 13440 deprecation_wrapper.py:119] From D:\\Anaconda3\\lib\\site-packages\\keras\\backend\\tensorflow_backend.py:181: The name tf.ConfigProto is deprecated. Please use tf.compat.v1.ConfigProto instead.\n",
      "\n"
     ]
    },
    {
     "name": "stdout",
     "output_type": "stream",
     "text": [
      "Number of inputs to dense layer: 9\n"
     ]
    }
   ],
   "source": [
    "histories = dict(acc=list(), val_acc=list(), loss=list(), val_loss=list())\n",
    "model, X_train, X_val, X_test, y_train, y_val, y_test = \\\n",
    "deep_er_model_generator(data,\n",
    "                        embedding_file = '../data/embeddings/glove-300.matrix.npy',\n",
    "                        text_columns = ['author', 'title', 'journal'],\n",
    "                        numeric_columns = [],\n",
    "                        text_nan_idx=nan_idx,\n",
    "                        num_nan_val=0,\n",
    "                        text_sim_metrics=['cosine'],\n",
    "                        text_compositions=['average'],\n",
    "                        numeric_sim_metrics=['min_max_ratio', 'scaled_inverse_lp', 'unscaled_inverse_lp'],\n",
    "                        dense_nodes=[32, 16, 8],\n",
    "                        document_frequencies=(doc_freqs_1, doc_freqs_2),\n",
    "                        idf_smoothing=2,\n",
    "                        make_isna=True)"
   ]
  },
  {
   "cell_type": "markdown",
   "metadata": {},
   "source": [
    "# Train model "
   ]
  },
  {
   "cell_type": "code",
   "execution_count": 7,
   "metadata": {
    "ExecuteTime": {
     "end_time": "2018-04-12T21:52:12.328428Z",
     "start_time": "2018-04-12T21:51:42.009377Z"
    }
   },
   "outputs": [
    {
     "name": "stderr",
     "output_type": "stream",
     "text": [
      "W0719 23:36:26.048782 13440 deprecation_wrapper.py:119] From D:\\Anaconda3\\lib\\site-packages\\keras\\optimizers.py:790: The name tf.train.Optimizer is deprecated. Please use tf.compat.v1.train.Optimizer instead.\n",
      "\n",
      "W0719 23:36:26.132881 13440 deprecation.py:323] From D:\\Anaconda3\\lib\\site-packages\\tensorflow\\python\\ops\\nn_impl.py:180: add_dispatch_support.<locals>.wrapper (from tensorflow.python.ops.array_ops) is deprecated and will be removed in a future version.\n",
      "Instructions for updating:\n",
      "Use tf.where in 2.0, which has the same broadcast rule as np.where\n"
     ]
    },
    {
     "name": "stdout",
     "output_type": "stream",
     "text": [
      "Train on 1728716 samples, validate on 216089 samples\n",
      "Epoch 1/10\n",
      "1728716/1728716 [==============================] - 287s 166us/step - loss: 0.2086 - acc: 0.9896 - val_loss: 0.0806 - val_acc: 0.9899\n",
      "Epoch 2/10\n",
      "1728716/1728716 [==============================] - 269s 156us/step - loss: 0.0742 - acc: 0.9901 - val_loss: 0.0695 - val_acc: 0.9899\n",
      "Epoch 3/10\n",
      "1728716/1728716 [==============================] - 259s 150us/step - loss: 0.0617 - acc: 0.9901 - val_loss: 0.0553 - val_acc: 0.9899\n",
      "Epoch 4/10\n",
      "1728716/1728716 [==============================] - 286s 165us/step - loss: 0.0474 - acc: 0.9901 - val_loss: 0.0410 - val_acc: 0.9899\n",
      "Epoch 5/10\n",
      "1728716/1728716 [==============================] - 272s 157us/step - loss: 0.0345 - acc: 0.9901 - val_loss: 0.0300 - val_acc: 0.9899\n",
      "Epoch 6/10\n",
      "1728716/1728716 [==============================] - 271s 157us/step - loss: 0.0273 - acc: 0.9901 - val_loss: 0.0255 - val_acc: 0.9899\n",
      "Epoch 7/10\n",
      "1728716/1728716 [==============================] - 261s 151us/step - loss: 0.0239 - acc: 0.9904 - val_loss: 0.0226 - val_acc: 0.9931\n",
      "Epoch 8/10\n",
      "1728716/1728716 [==============================] - 283s 164us/step - loss: 0.0209 - acc: 0.9947 - val_loss: 0.0190 - val_acc: 0.9960\n",
      "Epoch 9/10\n",
      "1728716/1728716 [==============================] - 259s 150us/step - loss: 0.0179 - acc: 0.9962 - val_loss: 0.0169 - val_acc: 0.9963\n",
      "Epoch 10/10\n",
      "1728716/1728716 [==============================] - 257s 149us/step - loss: 0.0165 - acc: 0.9964 - val_loss: 0.0158 - val_acc: 0.9965\n"
     ]
    }
   ],
   "source": [
    "model.compile(optimizer='adam', loss='binary_crossentropy', metrics=['acc'])\n",
    "history = model.fit(X_train, y_train, epochs=10, batch_size=16384,\n",
    "                    validation_data=(X_val, y_val),\n",
    "                    shuffle=True)\n",
    "\n",
    "histories['acc'].extend(history.history['acc'])\n",
    "histories['val_acc'].extend(history.history['val_acc'])\n",
    "histories['loss'].extend(history.history['loss'])\n",
    "histories['val_loss'].extend(history.history['val_loss'])"
   ]
  },
  {
   "cell_type": "markdown",
   "metadata": {},
   "source": [
    "# Learning curves"
   ]
  },
  {
   "cell_type": "code",
   "execution_count": 8,
   "metadata": {
    "ExecuteTime": {
     "end_time": "2018-04-12T21:53:06.430610Z",
     "start_time": "2018-04-12T21:53:06.048975Z"
    }
   },
   "outputs": [
    {
     "data": {
      "image/png": "[encoded data removed]",
      "text/plain": [
       "<Figure size 1152x432 with 2 Axes>"
      ]
     },
     "metadata": {
      "image/png": {
       "height": 374,
       "width": 943
      },
      "needs_background": "light"
     },
     "output_type": "display_data"
    }
   ],
   "source": [
    "fig, axes = plt.subplots(1, 2, figsize=(16,6))\n",
    "axes[0].plot(histories['loss'], label='loss')\n",
    "axes[0].plot(histories['val_loss'], label='val_loss')\n",
    "axes[0].set_ylim(0, 0.02)\n",
    "axes[1].plot(histories['acc'], label='acc')\n",
    "axes[1].plot(histories['val_acc'], label='val_acc')\n",
    "axes[1].set_ylim(.99, 1)\n",
    "\n",
    "for ax in axes:\n",
    "    ax.legend()\n",
    "    ax.grid(True)\n",
    "    ax.set(xlabel='epoch')"
   ]
  },
  {
   "cell_type": "markdown",
   "metadata": {},
   "source": [
    "# Evaluate model "
   ]
  },
  {
   "cell_type": "code",
   "execution_count": 9,
   "metadata": {
    "ExecuteTime": {
     "end_time": "2018-04-12T21:53:11.515998Z",
     "start_time": "2018-04-12T21:53:08.723045Z"
    }
   },
   "outputs": [
    {
     "name": "stdout",
     "output_type": "stream",
     "text": [
      "              precision    recall  f1-score   support\n",
      "\n",
      "           0       1.00      1.00      1.00    213910\n",
      "           1       0.97      0.67      0.79      2179\n",
      "\n",
      "   micro avg       1.00      1.00      1.00    216089\n",
      "   macro avg       0.98      0.84      0.90    216089\n",
      "weighted avg       1.00      1.00      1.00    216089\n",
      "\n",
      "[[213868     42]\n",
      " [   715   1464]]\n"
     ]
    }
   ],
   "source": [
    "y_val_pred = model.predict(X_val, batch_size=8192)[:,1]\n",
    "y_val_ = data['val_y'].values.squeeze()\n",
    "print(classification_report(y_val_, y_val_pred >= 0.5))\n",
    "print(confusion_matrix(y_val_, y_val_pred >= 0.5))"
   ]
  },
  {
   "cell_type": "code",
   "execution_count": 10,
   "metadata": {
    "ExecuteTime": {
     "end_time": "2018-04-12T21:45:49.865322Z",
     "start_time": "2018-04-12T21:45:47.406682Z"
    },
    "scrolled": true
   },
   "outputs": [
    {
     "data": {
      "text/html": [
       "<div>\n",
       "<style scoped>\n",
       "    .dataframe tbody tr th:only-of-type {\n",
       "        vertical-align: middle;\n",
       "    }\n",
       "\n",
       "    .dataframe tbody tr th {\n",
       "        vertical-align: top;\n",
       "    }\n",
       "\n",
       "    .dataframe thead th {\n",
       "        text-align: right;\n",
       "    }\n",
       "</style>\n",
       "<table border=\"1\" class=\"dataframe\">\n",
       "  <thead>\n",
       "    <tr style=\"text-align: right;\">\n",
       "      <th></th>\n",
       "      <th>id1</th>\n",
       "      <th>author</th>\n",
       "      <th>title</th>\n",
       "      <th>journal</th>\n",
       "      <th>year</th>\n",
       "      <th>id2</th>\n",
       "      <th>author</th>\n",
       "      <th>title</th>\n",
       "      <th>journal</th>\n",
       "      <th>year</th>\n",
       "    </tr>\n",
       "  </thead>\n",
       "  <tbody>\n",
       "    <tr>\n",
       "      <th>38329</th>\n",
       "      <td>98a28ee8-aa64-11e9-a88e-68f7283d3e4e</td>\n",
       "      <td>Chromatographic &lt;unk&gt; , methods and applications by Stig G</td>\n",
       "      <td>Frank</td>\n",
       "      <td>Chichester ( 1988 ) ISBN &lt;unk&gt; , Journal of High Resolution Chromatography</td>\n",
       "      <td>1989</td>\n",
       "      <td>989e6f78-aa64-11e9-9875-68f7283d3e4e</td>\n",
       "      <td>&lt;unk&gt;</td>\n",
       "      <td>Frank , Crossref</td>\n",
       "      <td>Chichester ( 1988 ) ISBN &lt;unk&gt; , Journal of High Resolution Chromatography</td>\n",
       "      <td>1989</td>\n",
       "    </tr>\n",
       "    <tr>\n",
       "      <th>10421</th>\n",
       "      <td>c194b3ac-aa64-11e9-a3b1-68f7283d3e4e</td>\n",
       "      <td>&lt;unk&gt; e &lt;unk&gt; en Cuba</td>\n",
       "      <td>&lt;unk&gt; , L.</td>\n",
       "      <td>&lt;unk&gt; Revista Iberoamericana Universitaria En Ambiente , Sociedad y &lt;unk&gt;</td>\n",
       "      <td>2015</td>\n",
       "      <td>c1926950-aa64-11e9-9473-68f7283d3e4e</td>\n",
       "      <td>&lt;unk&gt; e &lt;unk&gt; en &lt;unk&gt; ( , 1 : 1 ambiens Revista Iberoamericana Universitaria en Ambiente</td>\n",
       "      <td>&lt;unk&gt;</td>\n",
       "      <td>Sociedad y &lt;unk&gt;</td>\n",
       "      <td>2015</td>\n",
       "    </tr>\n",
       "    <tr>\n",
       "      <th>21219</th>\n",
       "      <td>c1485b38-aa64-11e9-b772-68f7283d3e4e</td>\n",
       "      <td>&lt;unk&gt;</td>\n",
       "      <td>&lt;unk&gt;</td>\n",
       "      <td>Journal of Development Economics</td>\n",
       "      <td>1985</td>\n",
       "      <td>c1421880-aa64-11e9-ad8f-68f7283d3e4e</td>\n",
       "      <td>&lt;unk&gt;</td>\n",
       "      <td>Announcement</td>\n",
       "      <td>Journal of Development Economics</td>\n",
       "      <td>1985</td>\n",
       "    </tr>\n",
       "    <tr>\n",
       "      <th>127781</th>\n",
       "      <td>9a52b062-aa64-11e9-899d-68f7283d3e4e</td>\n",
       "      <td>&lt;unk&gt;</td>\n",
       "      <td>&lt;unk&gt; , Do &lt;unk&gt; de Disclosure No Custo de Capital Das Empresas Brasileiras de Capital Aberto Do Setor de &lt;unk&gt;</td>\n",
       "      <td>&lt;unk&gt; da &lt;unk&gt;</td>\n",
       "      <td>2017</td>\n",
       "      <td>9a5856b8-aa64-11e9-af73-68f7283d3e4e</td>\n",
       "      <td>Souza , Impacto do &lt;unk&gt; de</td>\n",
       "      <td>&lt;unk&gt; , J. S. , Albuquerque , A , Disclosure no Custo de Capital das Empresas Brasileiras de Capital Aberto</td>\n",
       "      <td>&lt;unk&gt; da &lt;unk&gt;</td>\n",
       "      <td>2017</td>\n",
       "    </tr>\n",
       "    <tr>\n",
       "      <th>46172</th>\n",
       "      <td>adae577e-aa64-11e9-8000-68f7283d3e4e</td>\n",
       "      <td>Changes in blood acetaldehyde levels after ethanol administration in alcoholics</td>\n",
       "      <td>Takase , S. , Yasuhara , M. , Takada , A. , Ueshima , Y.</td>\n",
       "      <td>&lt;unk&gt; Alcohol , &lt;unk&gt;</td>\n",
       "      <td>1990</td>\n",
       "      <td>adaa3802-aa64-11e9-8279-68f7283d3e4e</td>\n",
       "      <td>Changes in blood acetaldehyde levels after ethanol administration in alcoholics</td>\n",
       "      <td>Takase , S.</td>\n",
       "      <td>alcohol. 7</td>\n",
       "      <td>1990, 1990, 37ÃÂ¢</td>\n",
       "    </tr>\n",
       "  </tbody>\n",
       "</table>\n",
       "</div>"
      ],
      "text/plain": [
       "                                         id1  \\\n",
       "38329   98a28ee8-aa64-11e9-a88e-68f7283d3e4e   \n",
       "10421   c194b3ac-aa64-11e9-a3b1-68f7283d3e4e   \n",
       "21219   c1485b38-aa64-11e9-b772-68f7283d3e4e   \n",
       "127781  9a52b062-aa64-11e9-899d-68f7283d3e4e   \n",
       "46172   adae577e-aa64-11e9-8000-68f7283d3e4e   \n",
       "\n",
       "                                                                                  author  \\\n",
       "38329                         Chromatographic <unk> , methods and applications by Stig G   \n",
       "10421                                                              <unk> e <unk> en Cuba   \n",
       "21219                                                                              <unk>   \n",
       "127781                                                                             <unk>   \n",
       "46172    Changes in blood acetaldehyde levels after ethanol administration in alcoholics   \n",
       "\n",
       "                                                                                                                   title  \\\n",
       "38329                                                                                                              Frank   \n",
       "10421                                                                                                         <unk> , L.   \n",
       "21219                                                                                                              <unk>   \n",
       "127781   <unk> , Do <unk> de Disclosure No Custo de Capital Das Empresas Brasileiras de Capital Aberto Do Setor de <unk>   \n",
       "46172                                                           Takase , S. , Yasuhara , M. , Takada , A. , Ueshima , Y.   \n",
       "\n",
       "                                                                            journal  \\\n",
       "38329    Chichester ( 1988 ) ISBN <unk> , Journal of High Resolution Chromatography   \n",
       "10421     <unk> Revista Iberoamericana Universitaria En Ambiente , Sociedad y <unk>   \n",
       "21219                                              Journal of Development Economics   \n",
       "127781                                                               <unk> da <unk>   \n",
       "46172                                                         <unk> Alcohol , <unk>   \n",
       "\n",
       "        year                                   id2  \\\n",
       "38329   1989  989e6f78-aa64-11e9-9875-68f7283d3e4e   \n",
       "10421   2015  c1926950-aa64-11e9-9473-68f7283d3e4e   \n",
       "21219   1985  c1421880-aa64-11e9-ad8f-68f7283d3e4e   \n",
       "127781  2017  9a5856b8-aa64-11e9-af73-68f7283d3e4e   \n",
       "46172   1990  adaa3802-aa64-11e9-8279-68f7283d3e4e   \n",
       "\n",
       "                                                                                            author  \\\n",
       "38329                                                                                        <unk>   \n",
       "10421    <unk> e <unk> en <unk> ( , 1 : 1 ambiens Revista Iberoamericana Universitaria en Ambiente   \n",
       "21219                                                                                        <unk>   \n",
       "127781                                                                 Souza , Impacto do <unk> de   \n",
       "46172              Changes in blood acetaldehyde levels after ethanol administration in alcoholics   \n",
       "\n",
       "                                                                                                               title  \\\n",
       "38329                                                                                               Frank , Crossref   \n",
       "10421                                                                                                          <unk>   \n",
       "21219                                                                                                   Announcement   \n",
       "127781   <unk> , J. S. , Albuquerque , A , Disclosure no Custo de Capital das Empresas Brasileiras de Capital Aberto   \n",
       "46172                                                                                                    Takase , S.   \n",
       "\n",
       "                                                                            journal  \\\n",
       "38329    Chichester ( 1988 ) ISBN <unk> , Journal of High Resolution Chromatography   \n",
       "10421                                                              Sociedad y <unk>   \n",
       "21219                                              Journal of Development Economics   \n",
       "127781                                                               <unk> da <unk>   \n",
       "46172                                                                    alcohol. 7   \n",
       "\n",
       "                      year  \n",
       "38329                 1989  \n",
       "10421                 2015  \n",
       "21219                 1985  \n",
       "127781                2017  \n",
       "46172   1990, 1990, 37ÃÂ¢  "
      ]
     },
     "execution_count": 10,
     "metadata": {},
     "output_type": "execute_result"
    }
   ],
   "source": [
    "mapping = map.copy()\n",
    "bool_mask = (y_val_ == 1) & ~(y_val_pred >= 0.5)\n",
    "columns = ['author', 'title', 'journal']\n",
    "df_examine = hp.examine_data(data['val_1'], data['val_2'], columns, bool_mask, mapping)\n",
    "df_examine.sample(5)"
   ]
  },
  {
   "cell_type": "markdown",
   "metadata": {},
   "source": [
    "# Save model and histories "
   ]
  },
  {
   "cell_type": "code",
   "execution_count": 11,
   "metadata": {
    "ExecuteTime": {
     "end_time": "2018-04-12T21:51:21.415206Z",
     "start_time": "2018-04-12T21:51:21.050809Z"
    }
   },
   "outputs": [],
   "source": [
    "pd.DataFrame(histories).to_csv('../data/histories/crossref-cermine.csv', index=False)\n",
    "model.save_weights('../data/models/crossref-cermine-base-1-num-null')"
   ]
  },
  {
   "cell_type": "markdown",
   "metadata": {},
   "source": [
    "# Test model "
   ]
  },
  {
   "cell_type": "code",
   "execution_count": 12,
   "metadata": {
    "ExecuteTime": {
     "end_time": "2018-04-12T21:51:26.898830Z",
     "start_time": "2018-04-12T21:51:23.802014Z"
    }
   },
   "outputs": [
    {
     "name": "stdout",
     "output_type": "stream",
     "text": [
      "              precision    recall  f1-score   support\n",
      "\n",
      "           0    0.99665   0.99976   0.99821    213922\n",
      "           1    0.96602   0.66882   0.79041      2168\n",
      "\n",
      "   micro avg    0.99644   0.99644   0.99644    216090\n",
      "   macro avg    0.98134   0.83429   0.89431    216090\n",
      "weighted avg    0.99635   0.99644   0.99612    216090\n",
      "\n",
      "[[213871     51]\n",
      " [   718   1450]]\n"
     ]
    }
   ],
   "source": [
    "model.load_weights('../data/models/crossref-cermine-base-1-num-null')\n",
    "y_test_pred = model.predict(X_test, batch_size=8102)[:,1]\n",
    "y_test_ = data['test_y'].values.squeeze()\n",
    "print(classification_report(y_test_, y_test_pred >= 0.5, digits=5))\n",
    "print(confusion_matrix(y_test_, y_test_pred >= 0.5))"
   ]
  },
  {
   "cell_type": "code",
   "execution_count": null,
   "metadata": {
    "collapsed": true
   },
   "outputs": [],
   "source": []
  }
 ],
 "metadata": {
  "kernelspec": {
   "display_name": "Python 3",
   "language": "python",
   "name": "python3"
  },
  "language_info": {
   "codemirror_mode": {
    "name": "ipython",
    "version": 3
   },
   "file_extension": ".py",
   "mimetype": "text/x-python",
   "name": "python",
   "nbconvert_exporter": "python",
   "pygments_lexer": "ipython3",
   "version": "3.7.3"
  },
  "varInspector": {
   "cols": {
    "lenName": 16,
    "lenType": 16,
    "lenVar": 40
   },
   "kernels_config": {
    "python": {
     "delete_cmd_postfix": "",
     "delete_cmd_prefix": "del ",
     "library": "var_list.py",
     "varRefreshCmd": "print(var_dic_list())"
    },
    "r": {
     "delete_cmd_postfix": ") ",
     "delete_cmd_prefix": "rm(",
     "library": "var_list.r",
     "varRefreshCmd": "cat(var_dic_list()) "
    }
   },
   "types_to_exclude": [
    "module",
    "function",
    "builtin_function_or_method",
    "instance",
    "_Feature"
   ],
   "window_display": false
  }
 },
 "nbformat": 4,
 "nbformat_minor": 2
}
