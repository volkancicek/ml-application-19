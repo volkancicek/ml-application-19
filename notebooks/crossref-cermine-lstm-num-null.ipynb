{
 "cells": [
  {
   "cell_type": "code",
   "execution_count": 1,
   "metadata": {
    "ExecuteTime": {
     "end_time": "2018-04-12T19:27:23.665689Z",
     "start_time": "2018-04-12T19:27:20.582747Z"
    }
   },
   "outputs": [
    {
     "name": "stderr",
     "output_type": "stream",
     "text": [
      "Using TensorFlow backend.\n"
     ]
    }
   ],
   "source": [
    "import sys\n",
    "import os\n",
    "import re\n",
    "sys.path.append('../scripts')\n",
    "\n",
    "import numpy as np\n",
    "import pandas as pd\n",
    "import matplotlib.pyplot as plt\n",
    "import seaborn as sns\n",
    "import helpers as hp\n",
    "import pickle as pkl\n",
    "import itertools as it\n",
    "\n",
    "from collections import OrderedDict, defaultdict\n",
    "\n",
    "from sklearn.metrics import f1_score, precision_score, recall_score,\\\n",
    "                            average_precision_score, roc_auc_score,\\\n",
    "                            roc_curve, precision_recall_curve, confusion_matrix,\\\n",
    "                            accuracy_score, classification_report\n",
    "\n",
    "from IPython.core.interactiveshell import InteractiveShell\n",
    "from matplotlib import rcParams\n",
    "from importlib import reload\n",
    "from model_generator import deep_er_model_generator\n",
    "pd.options.display.max_colwidth = 1000\n",
    "\n",
    "rcParams['font.family'] = 'serif'\n",
    "rcParams['font.serif'] = 'times new roman'\n",
    "\n",
    "%config InlineBackend.figure_format = 'retina'\n",
    "%matplotlib inline"
   ]
  },
  {
   "cell_type": "markdown",
   "metadata": {},
   "source": [
    "# Load data "
   ]
  },
  {
   "cell_type": "code",
   "execution_count": 2,
   "metadata": {
    "ExecuteTime": {
     "end_time": "2018-04-12T21:41:12.001384Z",
     "start_time": "2018-04-12T21:40:47.012379Z"
    }
   },
   "outputs": [],
   "source": [
    "reload(hp)\n",
    "\n",
    "with open('../data/embeddings/glove-300.map', 'rb') as f:\n",
    "    map = pkl.load(f)\n",
    "\n",
    "data_dir = os.path.join('..','data')\n",
    "source_dir = os.path.join(data_dir,'split','crossref/cermine')\n",
    "data = hp.load_data(source_dir)\n",
    "\n",
    "datasets = ['train_1', 'val_1', 'test_1', 'train_2', 'val_2', 'test_2']\n",
    "\n",
    "for data_name in datasets:\n",
    "    data[data_name] = data[data_name].fillna(0)\n",
    "\n",
    "doc_freqs_1, doc_freqs_2 = hp.get_document_frequencies('../data/converted/crossref/cermine/', mapping=map)\n",
    "nan_idx = map['word2idx']['NaN']"
   ]
  },
  {
   "cell_type": "markdown",
   "metadata": {},
   "source": [
    "# Generate model"
   ]
  },
  {
   "cell_type": "code",
   "execution_count": 5,
   "metadata": {
    "ExecuteTime": {
     "end_time": "2018-04-12T21:41:28.691606Z",
     "start_time": "2018-04-12T21:41:20.426588Z"
    }
   },
   "outputs": [
    {
     "name": "stderr",
     "output_type": "stream",
     "text": [
      "WARNING: Logging before flag parsing goes to stderr.\n",
      "W0722 17:13:16.207180  6488 deprecation_wrapper.py:119] From D:\\Anaconda3\\lib\\site-packages\\keras\\backend\\tensorflow_backend.py:74: The name tf.get_default_graph is deprecated. Please use tf.compat.v1.get_default_graph instead.\n",
      "\n",
      "W0722 17:13:16.537807  6488 deprecation_wrapper.py:119] From D:\\Anaconda3\\lib\\site-packages\\keras\\backend\\tensorflow_backend.py:517: The name tf.placeholder is deprecated. Please use tf.compat.v1.placeholder instead.\n",
      "\n",
      "W0722 17:14:28.380667  6488 deprecation_wrapper.py:119] From D:\\Anaconda3\\lib\\site-packages\\keras\\backend\\tensorflow_backend.py:4138: The name tf.random_uniform is deprecated. Please use tf.random.uniform instead.\n",
      "\n",
      "W0722 17:14:29.227595  6488 deprecation_wrapper.py:119] From D:\\Anaconda3\\lib\\site-packages\\keras\\backend\\tensorflow_backend.py:174: The name tf.get_default_session is deprecated. Please use tf.compat.v1.get_default_session instead.\n",
      "\n",
      "W0722 17:14:29.235519  6488 deprecation_wrapper.py:119] From D:\\Anaconda3\\lib\\site-packages\\keras\\backend\\tensorflow_backend.py:181: The name tf.ConfigProto is deprecated. Please use tf.compat.v1.ConfigProto instead.\n",
      "\n",
      "W0722 17:14:52.904758  6488 deprecation.py:323] From D:\\Anaconda3\\lib\\site-packages\\keras\\backend\\tensorflow_backend.py:2974: add_dispatch_support.<locals>.wrapper (from tensorflow.python.ops.array_ops) is deprecated and will be removed in a future version.\n",
      "Instructions for updating:\n",
      "Use tf.where in 2.0, which has the same broadcast rule as np.where\n"
     ]
    },
    {
     "name": "stdout",
     "output_type": "stream",
     "text": [
      "Number of inputs to dense layer: 92\n"
     ]
    },
    {
     "name": "stderr",
     "output_type": "stream",
     "text": [
      "W0722 17:14:54.573374  6488 deprecation.py:506] From D:\\Anaconda3\\lib\\site-packages\\keras\\backend\\tensorflow_backend.py:3445: calling dropout (from tensorflow.python.ops.nn_ops) with keep_prob is deprecated and will be removed in a future version.\n",
      "Instructions for updating:\n",
      "Please use `rate` instead of `keep_prob`. Rate should be set to `rate = 1 - keep_prob`.\n"
     ]
    }
   ],
   "source": [
    "histories = dict(acc=list(), val_acc=list(), loss=list(), val_loss=list())\n",
    "model, X_train, X_val, X_test, y_train, y_val, y_test = \\\n",
    "deep_er_model_generator(data,\n",
    "                        embedding_file = '../data/embeddings/glove-300.matrix.npy',\n",
    "                        text_columns = ['author', 'title', 'journal'],\n",
    "                        numeric_columns = ['year'],\n",
    "                        text_nan_idx=nan_idx,\n",
    "                        num_nan_val=0,\n",
    "                        text_sim_metrics=[],\n",
    "                        text_compositions=['bi_lstm'],\n",
    "                        numeric_sim_metrics=['min_max_ratio', 'unscaled_inverse_lp', 'scaled_inverse_lp'],\n",
    "                        dense_nodes=[32, 16],\n",
    "                        document_frequencies=(doc_freqs_1, doc_freqs_2),\n",
    "                        idf_smoothing=2,\n",
    "                        make_isna=True,\n",
    "                        lstm_args=dict(units=25, dropout=0, recurrent_dropout=0),\n",
    "                        batch_norm=True,\n",
    "                        dropout=0.5)"
   ]
  },
  {
   "cell_type": "markdown",
   "metadata": {},
   "source": [
    "# Crash recovery "
   ]
  },
  {
   "cell_type": "code",
   "execution_count": 15,
   "metadata": {},
   "outputs": [],
   "source": [
    "model.load_weights('../data/models/crossref-cermine-base-2-num-null')\n",
    "df_hist = pd.read_csv('../data/histories/crossref-cermine-base-2-num-null.csv')\n",
    "\n",
    "histories['acc'] = list(df_hist['acc'].values)\n",
    "histories['val_acc'] = list(df_hist['val_acc'].values)\n",
    "histories['loss'] = list(df_hist['loss'].values)\n",
    "histories['val_loss'] = list(df_hist['val_loss'].values)"
   ]
  },
  {
   "cell_type": "markdown",
   "metadata": {},
   "source": [
    "# Train model "
   ]
  },
  {
   "cell_type": "code",
   "execution_count": 8,
   "metadata": {
    "ExecuteTime": {
     "end_time": "2018-04-12T21:52:12.328428Z",
     "start_time": "2018-04-12T21:51:42.009377Z"
    }
   },
   "outputs": [
    {
     "name": "stdout",
     "output_type": "stream",
     "text": [
      "Train on 1728716 samples, validate on 216089 samples\n",
      "Epoch 1/1\n",
      "1728716/1728716 [==============================] - 61181s 35ms/step - loss: 0.3512 - acc: 0.8980 - val_loss: 0.0558 - val_acc: 0.9979\n"
     ]
    }
   ],
   "source": [
    "model.compile(optimizer='adam', loss='binary_crossentropy', metrics=['acc'])\n",
    "history = model.fit(X_train, y_train, epochs=1, batch_size=8192,\n",
    "                    validation_data=(X_val, y_val),\n",
    "                    shuffle=True)\n",
    "\n",
    "histories['acc'].extend(history.history['acc'])\n",
    "histories['val_acc'].extend(history.history['val_acc'])\n",
    "histories['loss'].extend(history.history['loss'])\n",
    "histories['val_loss'].extend(history.history['val_loss'])"
   ]
  },
  {
   "cell_type": "markdown",
   "metadata": {},
   "source": [
    "# Learning curves"
   ]
  },
  {
   "cell_type": "code",
   "execution_count": 9,
   "metadata": {
    "ExecuteTime": {
     "end_time": "2018-04-12T21:53:06.430610Z",
     "start_time": "2018-04-12T21:53:06.048975Z"
    }
   },
   "outputs": [
    {
     "data": {
      "image/png": "[encoded data removed]",
      "text/plain": [
       "<Figure size 1152x432 with 2 Axes>"
      ]
     },
     "metadata": {
      "image/png": {
       "height": 374,
       "width": 943
      },
      "needs_background": "light"
     },
     "output_type": "display_data"
    }
   ],
   "source": [
    "fig, axes = plt.subplots(1, 2, figsize=(16,6))\n",
    "axes[0].plot(histories['loss'], label='loss')\n",
    "axes[0].plot(histories['val_loss'], label='val_loss')\n",
    "axes[0].set_ylim(0, 0.02)\n",
    "axes[1].plot(histories['acc'], label='acc')\n",
    "axes[1].plot(histories['val_acc'], label='val_acc')\n",
    "axes[1].set_ylim(0.8, 1)\n",
    "\n",
    "for ax in axes:\n",
    "    ax.legend()\n",
    "    ax.grid(True)\n",
    "    ax.set(xlabel='epoch')"
   ]
  },
  {
   "cell_type": "markdown",
   "metadata": {},
   "source": [
    "# Evaluate model "
   ]
  },
  {
   "cell_type": "code",
   "execution_count": 10,
   "metadata": {
    "ExecuteTime": {
     "end_time": "2018-04-12T21:53:11.515998Z",
     "start_time": "2018-04-12T21:53:08.723045Z"
    }
   },
   "outputs": [
    {
     "name": "stdout",
     "output_type": "stream",
     "text": [
      "              precision    recall  f1-score   support\n",
      "\n",
      "           0       1.00      1.00      1.00    213859\n",
      "           1       0.97      0.82      0.89      2230\n",
      "\n",
      "   micro avg       1.00      1.00      1.00    216089\n",
      "   macro avg       0.98      0.91      0.94    216089\n",
      "weighted avg       1.00      1.00      1.00    216089\n",
      "\n",
      "[[213800     59]\n",
      " [   399   1831]]\n"
     ]
    }
   ],
   "source": [
    "y_val_pred = model.predict(X_val, batch_size=8192)[:,1]\n",
    "y_val_ = data['val_y'].values.squeeze()\n",
    "print(classification_report(y_val_, y_val_pred >= 0.5))\n",
    "print(confusion_matrix(y_val_, y_val_pred >= 0.5))"
   ]
  },
  {
   "cell_type": "code",
   "execution_count": 12,
   "metadata": {
    "ExecuteTime": {
     "end_time": "2018-04-12T21:45:49.865322Z",
     "start_time": "2018-04-12T21:45:47.406682Z"
    }
   },
   "outputs": [
    {
     "data": {
      "text/html": [
       "<div>\n",
       "<style scoped>\n",
       "    .dataframe tbody tr th:only-of-type {\n",
       "        vertical-align: middle;\n",
       "    }\n",
       "\n",
       "    .dataframe tbody tr th {\n",
       "        vertical-align: top;\n",
       "    }\n",
       "\n",
       "    .dataframe thead th {\n",
       "        text-align: right;\n",
       "    }\n",
       "</style>\n",
       "<table border=\"1\" class=\"dataframe\">\n",
       "  <thead>\n",
       "    <tr style=\"text-align: right;\">\n",
       "      <th></th>\n",
       "      <th>id1</th>\n",
       "      <th>author</th>\n",
       "      <th>title</th>\n",
       "      <th>journal</th>\n",
       "      <th>year</th>\n",
       "      <th>id2</th>\n",
       "      <th>author</th>\n",
       "      <th>title</th>\n",
       "      <th>journal</th>\n",
       "      <th>year</th>\n",
       "    </tr>\n",
       "  </thead>\n",
       "  <tbody>\n",
       "    <tr>\n",
       "      <th>212724</th>\n",
       "      <td>3f802e90-abdf-11e9-a7ec-04ea56df376a</td>\n",
       "      <td>Modelagem &lt;unk&gt; na &lt;unk&gt; do campo : &lt;unk&gt; de &lt;unk&gt; locais / Mathematical modeling in rural education : visibility of local knowledge</td>\n",
       "      <td>Magnus , M. C. M.</td>\n",
       "      <td>Cadernos &lt;unk&gt;</td>\n",
       "      <td>2018.0</td>\n",
       "      <td>3f7ef662-abdf-11e9-8b6a-04ea56df376a</td>\n",
       "      <td>Modelagem &lt;unk&gt; na &lt;unk&gt; do campo : &lt;unk&gt; de &lt;unk&gt; locais / Mathematical modeling in rural education : visibility of local &lt;unk&gt; ( , 8 : 1 Cadernos &lt;unk&gt; 391</td>\n",
       "      <td>Magnus</td>\n",
       "      <td>&lt;unk&gt;</td>\n",
       "      <td>2018.0</td>\n",
       "    </tr>\n",
       "    <tr>\n",
       "      <th>97829</th>\n",
       "      <td>42793912-abdf-11e9-928c-04ea56df376a</td>\n",
       "      <td>&lt;unk&gt; Chromosomal Proteins</td>\n",
       "      <td>&lt;unk&gt;</td>\n",
       "      <td>&lt;unk&gt;</td>\n",
       "      <td>1982.0</td>\n",
       "      <td>427a7664-abdf-11e9-a26d-04ea56df376a</td>\n",
       "      <td>&lt;unk&gt;</td>\n",
       "      <td>Anon</td>\n",
       "      <td>The Chromosomal Proteins , org / 10.1016 / &lt;unk&gt;</td>\n",
       "      <td>1982.0</td>\n",
       "    </tr>\n",
       "    <tr>\n",
       "      <th>25214</th>\n",
       "      <td>4251eefe-abdf-11e9-92f8-04ea56df376a</td>\n",
       "      <td>Viscous Effects in Plasma Acceleration</td>\n",
       "      <td>Kumar , P.V.</td>\n",
       "      <td>47th AIAA Aerospace Sciences Meeting including The New Horizons Forum and Aerospace &lt;unk&gt; ( Jan</td>\n",
       "      <td>2009.0</td>\n",
       "      <td>42548c68-abdf-11e9-aa7c-04ea56df376a</td>\n",
       "      <td>&lt;unk&gt;</td>\n",
       "      <td>Kumar , P. V. , Nagendra , B. , Sheshadri , T. , Kadal , H. K.</td>\n",
       "      <td>Viscous Effects in Plasma &lt;unk&gt; 47th AIAA Aerospace Sciences Meeting Including The New Horizons Forum and Aerospace &lt;unk&gt; doi : &lt;unk&gt; / 6</td>\n",
       "      <td>2009.0</td>\n",
       "    </tr>\n",
       "    <tr>\n",
       "      <th>148029</th>\n",
       "      <td>47a3aa22-abdf-11e9-b4bb-04ea56df376a</td>\n",
       "      <td>&lt;unk&gt;</td>\n",
       "      <td>&lt;unk&gt; Der &lt;unk&gt; Monarchie , &lt;unk&gt; , Crossref</td>\n",
       "      <td>Nature</td>\n",
       "      <td>1885.0</td>\n",
       "      <td>47a58a98-abdf-11e9-b3e3-04ea56df376a</td>\n",
       "      <td>&lt;unk&gt; &lt;unk&gt; der &lt;unk&gt; &lt;unk&gt; (</td>\n",
       "      <td>&lt;unk&gt;</td>\n",
       "      <td>&lt;unk&gt;</td>\n",
       "      <td>1885.0</td>\n",
       "    </tr>\n",
       "    <tr>\n",
       "      <th>117806</th>\n",
       "      <td>48c67318-abdf-11e9-be81-04ea56df376a</td>\n",
       "      <td>&lt;unk&gt;</td>\n",
       "      <td>&lt;unk&gt; , Giaretta</td>\n",
       "      <td>Philosophia [ online ] . 20 December 2017 , &lt;unk&gt; 2 , &lt;unk&gt; &lt;unk&gt;</td>\n",
       "      <td>2017.0</td>\n",
       "      <td>48c48b82-abdf-11e9-8051-04ea56df376a</td>\n",
       "      <td>&lt;unk&gt;</td>\n",
       "      <td>&lt;unk&gt;</td>\n",
       "      <td>&lt;unk&gt;</td>\n",
       "      <td>2017.0</td>\n",
       "    </tr>\n",
       "  </tbody>\n",
       "</table>\n",
       "</div>"
      ],
      "text/plain": [
       "                                         id1  \\\n",
       "212724  3f802e90-abdf-11e9-a7ec-04ea56df376a   \n",
       "97829   42793912-abdf-11e9-928c-04ea56df376a   \n",
       "25214   4251eefe-abdf-11e9-92f8-04ea56df376a   \n",
       "148029  47a3aa22-abdf-11e9-b4bb-04ea56df376a   \n",
       "117806  48c67318-abdf-11e9-be81-04ea56df376a   \n",
       "\n",
       "                                                                                                                                       author  \\\n",
       "212724   Modelagem <unk> na <unk> do campo : <unk> de <unk> locais / Mathematical modeling in rural education : visibility of local knowledge   \n",
       "97829                                                                                                              <unk> Chromosomal Proteins   \n",
       "25214                                                                                                  Viscous Effects in Plasma Acceleration   \n",
       "148029                                                                                                                                  <unk>   \n",
       "117806                                                                                                                                  <unk>   \n",
       "\n",
       "                                                title  \\\n",
       "212724                              Magnus , M. C. M.   \n",
       "97829                                           <unk>   \n",
       "25214                                    Kumar , P.V.   \n",
       "148029   <unk> Der <unk> Monarchie , <unk> , Crossref   \n",
       "117806                               <unk> , Giaretta   \n",
       "\n",
       "                                                                                                 journal  \\\n",
       "212724                                                                                    Cadernos <unk>   \n",
       "97829                                                                                              <unk>   \n",
       "25214    47th AIAA Aerospace Sciences Meeting including The New Horizons Forum and Aerospace <unk> ( Jan   \n",
       "148029                                                                                            Nature   \n",
       "117806                                 Philosophia [ online ] . 20 December 2017 , <unk> 2 , <unk> <unk>   \n",
       "\n",
       "          year                                   id2  \\\n",
       "212724  2018.0  3f7ef662-abdf-11e9-8b6a-04ea56df376a   \n",
       "97829   1982.0  427a7664-abdf-11e9-a26d-04ea56df376a   \n",
       "25214   2009.0  42548c68-abdf-11e9-aa7c-04ea56df376a   \n",
       "148029  1885.0  47a58a98-abdf-11e9-b3e3-04ea56df376a   \n",
       "117806  2017.0  48c48b82-abdf-11e9-8051-04ea56df376a   \n",
       "\n",
       "                                                                                                                                                                author  \\\n",
       "212724   Modelagem <unk> na <unk> do campo : <unk> de <unk> locais / Mathematical modeling in rural education : visibility of local <unk> ( , 8 : 1 Cadernos <unk> 391   \n",
       "97829                                                                                                                                                            <unk>   \n",
       "25214                                                                                                                                                            <unk>   \n",
       "148029                                                                                                                                   <unk> <unk> der <unk> <unk> (   \n",
       "117806                                                                                                                                                           <unk>   \n",
       "\n",
       "                                                                  title  \\\n",
       "212724                                                           Magnus   \n",
       "97829                                                              Anon   \n",
       "25214    Kumar , P. V. , Nagendra , B. , Sheshadri , T. , Kadal , H. K.   \n",
       "148029                                                            <unk>   \n",
       "117806                                                            <unk>   \n",
       "\n",
       "                                                                                                                                           journal  \\\n",
       "212724                                                                                                                                       <unk>   \n",
       "97829                                                                                             The Chromosomal Proteins , org / 10.1016 / <unk>   \n",
       "25214    Viscous Effects in Plasma <unk> 47th AIAA Aerospace Sciences Meeting Including The New Horizons Forum and Aerospace <unk> doi : <unk> / 6   \n",
       "148029                                                                                                                                       <unk>   \n",
       "117806                                                                                                                                       <unk>   \n",
       "\n",
       "          year  \n",
       "212724  2018.0  \n",
       "97829   1982.0  \n",
       "25214   2009.0  \n",
       "148029  1885.0  \n",
       "117806  2017.0  "
      ]
     },
     "execution_count": 12,
     "metadata": {},
     "output_type": "execute_result"
    }
   ],
   "source": [
    "mapping = map.copy()\n",
    "bool_mask = (y_val_ == 1) & ~(y_val_pred >= 0.5)\n",
    "columns = ['author', 'title', 'journal']\n",
    "df_examine = hp.examine_data(data['val_1'], data['val_2'], columns, bool_mask, mapping)\n",
    "df_examine.sample(5)"
   ]
  },
  {
   "cell_type": "markdown",
   "metadata": {},
   "source": [
    "# Save model and histories "
   ]
  },
  {
   "cell_type": "code",
   "execution_count": 13,
   "metadata": {
    "ExecuteTime": {
     "end_time": "2018-04-12T21:51:21.415206Z",
     "start_time": "2018-04-12T21:51:21.050809Z"
    }
   },
   "outputs": [],
   "source": [
    "pd.DataFrame(histories).to_csv('../data/histories/crossref-cermine-base-2-num-null.csv', index=False)\n",
    "model.save_weights('../data/models/crossref-cermine-base-2-num-null')"
   ]
  },
  {
   "cell_type": "markdown",
   "metadata": {},
   "source": [
    "# Test model "
   ]
  },
  {
   "cell_type": "code",
   "execution_count": 14,
   "metadata": {
    "ExecuteTime": {
     "end_time": "2018-04-12T21:51:26.898830Z",
     "start_time": "2018-04-12T21:51:23.802014Z"
    }
   },
   "outputs": [
    {
     "name": "stdout",
     "output_type": "stream",
     "text": [
      "              precision    recall  f1-score   support\n",
      "\n",
      "           0    0.99828   0.99965   0.99897    214015\n",
      "           1    0.95843   0.82217   0.88508      2075\n",
      "\n",
      "   micro avg    0.99795   0.99795   0.99795    216090\n",
      "   macro avg    0.97835   0.91091   0.94203    216090\n",
      "weighted avg    0.99790   0.99795   0.99787    216090\n",
      "\n",
      "[[213941     74]\n",
      " [   369   1706]]\n"
     ]
    }
   ],
   "source": [
    "y_test_pred = model.predict(X_test, batch_size=8192)[:,1]\n",
    "y_test_ = data['test_y'].values.squeeze()\n",
    "print(classification_report(y_test_, y_test_pred >= 0.5, digits=5))\n",
    "print(confusion_matrix(y_test_, y_test_pred >= 0.5))"
   ]
  },
  {
   "cell_type": "code",
   "execution_count": null,
   "metadata": {
    "collapsed": true
   },
   "outputs": [],
   "source": []
  }
 ],
 "metadata": {
  "kernelspec": {
   "display_name": "Python 3",
   "language": "python",
   "name": "python3"
  },
  "language_info": {
   "codemirror_mode": {
    "name": "ipython",
    "version": 3
   },
   "file_extension": ".py",
   "mimetype": "text/x-python",
   "name": "python",
   "nbconvert_exporter": "python",
   "pygments_lexer": "ipython3",
   "version": "3.7.3"
  },
  "varInspector": {
   "cols": {
    "lenName": 16,
    "lenType": 16,
    "lenVar": 40
   },
   "kernels_config": {
    "python": {
     "delete_cmd_postfix": "",
     "delete_cmd_prefix": "del ",
     "library": "var_list.py",
     "varRefreshCmd": "print(var_dic_list())"
    },
    "r": {
     "delete_cmd_postfix": ") ",
     "delete_cmd_prefix": "rm(",
     "library": "var_list.r",
     "varRefreshCmd": "cat(var_dic_list()) "
    }
   },
   "types_to_exclude": [
    "module",
    "function",
    "builtin_function_or_method",
    "instance",
    "_Feature"
   ],
   "window_display": false
  }
 },
 "nbformat": 4,
 "nbformat_minor": 2
}
