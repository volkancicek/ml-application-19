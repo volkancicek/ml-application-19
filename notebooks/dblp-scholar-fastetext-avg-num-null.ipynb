{
 "cells": [
  {
   "cell_type": "code",
   "execution_count": 1,
   "metadata": {
    "ExecuteTime": {
     "end_time": "2018-04-12T19:27:23.665689Z",
     "start_time": "2018-04-12T19:27:20.582747Z"
    },
    "scrolled": true
   },
   "outputs": [
    {
     "name": "stderr",
     "output_type": "stream",
     "text": [
      "Using TensorFlow backend.\n"
     ]
    }
   ],
   "source": [
    "import sys\n",
    "import os\n",
    "import re\n",
    "sys.path.append('../scripts')\n",
    "\n",
    "import numpy as np\n",
    "import pandas as pd\n",
    "import matplotlib.pyplot as plt\n",
    "import seaborn as sns\n",
    "import helpers as hp\n",
    "import pickle as pkl\n",
    "import itertools as it\n",
    "\n",
    "from collections import OrderedDict, defaultdict\n",
    "\n",
    "from sklearn.metrics import f1_score, precision_score, recall_score,\\\n",
    "                            average_precision_score, roc_auc_score,\\\n",
    "                            roc_curve, precision_recall_curve, confusion_matrix,\\\n",
    "                            accuracy_score, classification_report\n",
    "\n",
    "from IPython.core.interactiveshell import InteractiveShell\n",
    "from matplotlib import rcParams\n",
    "from importlib import reload\n",
    "from model_generator import deep_er_model_generator\n",
    "pd.options.display.max_colwidth = 1000\n",
    "\n",
    "rcParams['font.family'] = 'serif'\n",
    "rcParams['font.serif'] = 'times new roman'\n",
    "\n",
    "%config InlineBackend.figure_format = 'retina'\n",
    "%matplotlib inline"
   ]
  },
  {
   "cell_type": "markdown",
   "metadata": {},
   "source": [
    "# Load data "
   ]
  },
  {
   "cell_type": "code",
   "execution_count": 2,
   "metadata": {
    "ExecuteTime": {
     "end_time": "2018-04-12T21:41:12.001384Z",
     "start_time": "2018-04-12T21:40:47.012379Z"
    }
   },
   "outputs": [],
   "source": [
    "reload(hp)\n",
    "\n",
    "with open('../data/embeddings/fasttext-300.map', 'rb') as f:\n",
    "    map = pkl.load(f)\n",
    "\n",
    "data_dir = os.path.join('..','data')\n",
    "source_dir = os.path.join(data_dir,'split','dblp-scholar/fasttext')\n",
    "data = hp.load_data(source_dir)\n",
    "\n",
    "datasets = ['train_1', 'val_1', 'test_1', 'train_2', 'val_2', 'test_2']\n",
    "\n",
    "for data_name in datasets:\n",
    "    data[data_name] = data[data_name].fillna(0)\n",
    "\n",
    "doc_freqs_1, doc_freqs_2 = hp.get_document_frequencies('../data/converted/dblp-scholar/fasttext/', mapping=map)\n",
    "nan_idx = map['word2idx']['NaN']"
   ]
  },
  {
   "cell_type": "markdown",
   "metadata": {},
   "source": [
    "# Generate model"
   ]
  },
  {
   "cell_type": "code",
   "execution_count": 3,
   "metadata": {
    "ExecuteTime": {
     "end_time": "2018-04-12T21:41:28.691606Z",
     "start_time": "2018-04-12T21:41:20.426588Z"
    },
    "scrolled": true
   },
   "outputs": [
    {
     "name": "stderr",
     "output_type": "stream",
     "text": [
      "WARNING: Logging before flag parsing goes to stderr.\n",
      "W0908 15:22:48.271408  1768 deprecation_wrapper.py:119] From D:\\Anaconda3\\lib\\site-packages\\keras\\backend\\tensorflow_backend.py:74: The name tf.get_default_graph is deprecated. Please use tf.compat.v1.get_default_graph instead.\n",
      "\n",
      "W0908 15:22:48.471876  1768 deprecation_wrapper.py:119] From D:\\Anaconda3\\lib\\site-packages\\keras\\backend\\tensorflow_backend.py:517: The name tf.placeholder is deprecated. Please use tf.compat.v1.placeholder instead.\n",
      "\n",
      "W0908 15:23:19.329675  1768 deprecation_wrapper.py:119] From D:\\Anaconda3\\lib\\site-packages\\keras\\backend\\tensorflow_backend.py:4138: The name tf.random_uniform is deprecated. Please use tf.random.uniform instead.\n",
      "\n",
      "W0908 15:23:19.557940  1768 deprecation_wrapper.py:119] From D:\\Anaconda3\\lib\\site-packages\\keras\\backend\\tensorflow_backend.py:174: The name tf.get_default_session is deprecated. Please use tf.compat.v1.get_default_session instead.\n",
      "\n",
      "W0908 15:23:19.561794  1768 deprecation_wrapper.py:119] From D:\\Anaconda3\\lib\\site-packages\\keras\\backend\\tensorflow_backend.py:181: The name tf.ConfigProto is deprecated. Please use tf.compat.v1.ConfigProto instead.\n",
      "\n"
     ]
    },
    {
     "name": "stdout",
     "output_type": "stream",
     "text": [
      "Number of inputs to dense layer: 14\n"
     ]
    }
   ],
   "source": [
    "histories = dict(acc=list(), val_acc=list(), loss=list(), val_loss=list())\n",
    "model, X_train, X_val, X_test, y_train, y_val, y_test = \\\n",
    "deep_er_model_generator(data,\n",
    "                        embedding_file = '../data/embeddings/fasttext-300.matrix.npy',\n",
    "                        text_columns = ['title', 'authors', 'venue'],\n",
    "                        numeric_columns = ['year'],\n",
    "                        text_nan_idx=nan_idx,\n",
    "                        num_nan_val=0,\n",
    "                        text_sim_metrics=['cosine'],\n",
    "                        text_compositions=['average'],\n",
    "                        numeric_sim_metrics=['min_max_ratio', 'scaled_inverse_lp', 'unscaled_inverse_lp'],\n",
    "                        dense_nodes=[32, 16, 8],\n",
    "                        document_frequencies=(doc_freqs_1, doc_freqs_2),\n",
    "                        idf_smoothing=2,\n",
    "                        make_isna=True)"
   ]
  },
  {
   "cell_type": "markdown",
   "metadata": {},
   "source": [
    "# Train model "
   ]
  },
  {
   "cell_type": "code",
   "execution_count": 4,
   "metadata": {
    "ExecuteTime": {
     "end_time": "2018-04-12T21:52:12.328428Z",
     "start_time": "2018-04-12T21:51:42.009377Z"
    },
    "scrolled": true
   },
   "outputs": [
    {
     "name": "stderr",
     "output_type": "stream",
     "text": [
      "W0908 15:30:00.509170  1768 deprecation_wrapper.py:119] From D:\\Anaconda3\\lib\\site-packages\\keras\\optimizers.py:790: The name tf.train.Optimizer is deprecated. Please use tf.compat.v1.train.Optimizer instead.\n",
      "\n",
      "W0908 15:30:00.600145  1768 deprecation.py:323] From D:\\Anaconda3\\lib\\site-packages\\tensorflow\\python\\ops\\nn_impl.py:180: add_dispatch_support.<locals>.wrapper (from tensorflow.python.ops.array_ops) is deprecated and will be removed in a future version.\n",
      "Instructions for updating:\n",
      "Use tf.where in 2.0, which has the same broadcast rule as np.where\n"
     ]
    },
    {
     "name": "stdout",
     "output_type": "stream",
     "text": [
      "Train on 1728150 samples, validate on 216019 samples\n",
      "Epoch 1/10\n",
      "1728150/1728150 [==============================] - 264s 153us/step - loss: 0.3138 - acc: 0.9360 - val_loss: 0.0583 - val_acc: 0.9901\n",
      "Epoch 2/10\n",
      "1728150/1728150 [==============================] - 253s 146us/step - loss: 0.0527 - acc: 0.9901 - val_loss: 0.0479 - val_acc: 0.9901\n",
      "Epoch 3/10\n",
      "1728150/1728150 [==============================] - 262s 152us/step - loss: 0.0422 - acc: 0.9901 - val_loss: 0.0346 - val_acc: 0.9901\n",
      "Epoch 4/10\n",
      "1728150/1728150 [==============================] - 267s 154us/step - loss: 0.0258 - acc: 0.9917 - val_loss: 0.0194 - val_acc: 0.9931\n",
      "Epoch 5/10\n",
      "1728150/1728150 [==============================] - 206s 119us/step - loss: 0.0159 - acc: 0.9944 - val_loss: 0.0128 - val_acc: 0.9963\n",
      "Epoch 6/10\n",
      "1728150/1728150 [==============================] - 210s 122us/step - loss: 0.0110 - acc: 0.9972 - val_loss: 0.0095 - val_acc: 0.9975\n",
      "Epoch 7/10\n",
      "1728150/1728150 [==============================] - 211s 122us/step - loss: 0.0087 - acc: 0.9978 - val_loss: 0.0081 - val_acc: 0.9979\n",
      "Epoch 8/10\n",
      "1728150/1728150 [==============================] - 212s 123us/step - loss: 0.0077 - acc: 0.9980 - val_loss: 0.0075 - val_acc: 0.9981\n",
      "Epoch 9/10\n",
      "1728150/1728150 [==============================] - 205s 119us/step - loss: 0.0073 - acc: 0.9981 - val_loss: 0.0073 - val_acc: 0.9981\n",
      "Epoch 10/10\n",
      "1728150/1728150 [==============================] - 204s 118us/step - loss: 0.0071 - acc: 0.9981 - val_loss: 0.0072 - val_acc: 0.9981\n"
     ]
    }
   ],
   "source": [
    "model.compile(optimizer='adam', loss='binary_crossentropy', metrics=['acc'])\n",
    "history = model.fit(X_train, y_train, epochs=10, batch_size=16384,\n",
    "                    validation_data=(X_val, y_val),\n",
    "                    shuffle=True)\n",
    "\n",
    "histories['acc'].extend(history.history['acc'])\n",
    "histories['val_acc'].extend(history.history['val_acc'])\n",
    "histories['loss'].extend(history.history['loss'])\n",
    "histories['val_loss'].extend(history.history['val_loss'])"
   ]
  },
  {
   "cell_type": "markdown",
   "metadata": {},
   "source": [
    "# Learning curves"
   ]
  },
  {
   "cell_type": "code",
   "execution_count": 5,
   "metadata": {
    "ExecuteTime": {
     "end_time": "2018-04-12T21:53:06.430610Z",
     "start_time": "2018-04-12T21:53:06.048975Z"
    }
   },
   "outputs": [
    {
     "data": {
      "image/png": "[encoded data removed]",
      "text/plain": [
       "<Figure size 1152x432 with 2 Axes>"
      ]
     },
     "metadata": {
      "image/png": {
       "height": 374,
       "width": 933
      },
      "needs_background": "light"
     },
     "output_type": "display_data"
    }
   ],
   "source": [
    "fig, axes = plt.subplots(1, 2, figsize=(16,6))\n",
    "axes[0].plot(histories['loss'], label='loss')\n",
    "axes[0].plot(histories['val_loss'], label='val_loss')\n",
    "axes[0].set_ylim(0, 0.1)\n",
    "axes[1].plot(histories['acc'], label='acc')\n",
    "axes[1].plot(histories['val_acc'], label='val_acc')\n",
    "axes[1].set_ylim(.99, 1)\n",
    "\n",
    "for ax in axes:\n",
    "    ax.legend()\n",
    "    ax.grid(True)\n",
    "    ax.set(xlabel='epoch')"
   ]
  },
  {
   "cell_type": "markdown",
   "metadata": {},
   "source": [
    "# Evaluate model "
   ]
  },
  {
   "cell_type": "code",
   "execution_count": 6,
   "metadata": {
    "ExecuteTime": {
     "end_time": "2018-04-12T21:53:11.515998Z",
     "start_time": "2018-04-12T21:53:08.723045Z"
    }
   },
   "outputs": [
    {
     "name": "stdout",
     "output_type": "stream",
     "text": [
      "              precision    recall  f1-score   support\n",
      "\n",
      "           0       1.00      1.00      1.00    213889\n",
      "           1       0.97      0.84      0.90      2130\n",
      "\n",
      "   micro avg       1.00      1.00      1.00    216019\n",
      "   macro avg       0.98      0.92      0.95    216019\n",
      "weighted avg       1.00      1.00      1.00    216019\n",
      "\n",
      "[[213837     52]\n",
      " [   350   1780]]\n"
     ]
    }
   ],
   "source": [
    "y_val_pred = model.predict(X_val, batch_size=8192)[:,1]\n",
    "y_val_ = data['val_y'].values.squeeze()\n",
    "print(classification_report(y_val_, y_val_pred >= 0.5))\n",
    "print(confusion_matrix(y_val_, y_val_pred >= 0.5))"
   ]
  },
  {
   "cell_type": "code",
   "execution_count": 7,
   "metadata": {
    "ExecuteTime": {
     "end_time": "2018-04-12T21:45:49.865322Z",
     "start_time": "2018-04-12T21:45:47.406682Z"
    },
    "scrolled": true
   },
   "outputs": [
    {
     "data": {
      "text/html": [
       "<div>\n",
       "<style scoped>\n",
       "    .dataframe tbody tr th:only-of-type {\n",
       "        vertical-align: middle;\n",
       "    }\n",
       "\n",
       "    .dataframe tbody tr th {\n",
       "        vertical-align: top;\n",
       "    }\n",
       "\n",
       "    .dataframe thead th {\n",
       "        text-align: right;\n",
       "    }\n",
       "</style>\n",
       "<table border=\"1\" class=\"dataframe\">\n",
       "  <thead>\n",
       "    <tr style=\"text-align: right;\">\n",
       "      <th></th>\n",
       "      <th>id1</th>\n",
       "      <th>title</th>\n",
       "      <th>authors</th>\n",
       "      <th>venue</th>\n",
       "      <th>year</th>\n",
       "      <th>id2</th>\n",
       "      <th>title</th>\n",
       "      <th>authors</th>\n",
       "      <th>venue</th>\n",
       "      <th>year</th>\n",
       "    </tr>\n",
       "  </thead>\n",
       "  <tbody>\n",
       "    <tr>\n",
       "      <th>108258</th>\n",
       "      <td>conf/sigmod/LiuPTBBZBHY98</td>\n",
       "      <td>CQ : A Personalized Update Monitoring Toolkit</td>\n",
       "      <td>L Liu , C Pu , W Tang , D Buttler , J Biggs , T Zhou , P Benninghoff , W Han , F Yu</td>\n",
       "      <td>SIGMOD Conference</td>\n",
       "      <td>1998</td>\n",
       "      <td>0e3PPUvtZ0MJ</td>\n",
       "      <td>A personalized update monitoring toolkit</td>\n",
       "      <td>, J Biggs , T Zhou , P Benninghoff , W Han , FY CQ</td>\n",
       "      <td>Haas and Tiwary</td>\n",
       "      <td>0.0</td>\n",
       "    </tr>\n",
       "    <tr>\n",
       "      <th>165325</th>\n",
       "      <td>journals/sigmod/DAndreaJ96</td>\n",
       "      <td>&lt;unk&gt; 's Next-Generation Object-Relational Database Management System</td>\n",
       "      <td>A &lt;unk&gt; , P Janus</td>\n",
       "      <td>SIGMOD Record</td>\n",
       "      <td>1996</td>\n",
       "      <td>-XugBF7u07EJ</td>\n",
       "      <td>&lt;unk&gt; ? ? s nextgeneration object-relational database management system</td>\n",
       "      <td>, P Janus</td>\n",
       "      <td>ACM SIGMOD Record ,</td>\n",
       "      <td>1996.0</td>\n",
       "    </tr>\n",
       "    <tr>\n",
       "      <th>166889</th>\n",
       "      <td>conf/vldb/ScheuermannSV96</td>\n",
       "      <td>WATCHMAN : A Data Warehouse Intelligent Cache Manager</td>\n",
       "      <td>P Scheuermann , J Shim , R &lt;unk&gt;</td>\n",
       "      <td>VLDB</td>\n",
       "      <td>1996</td>\n",
       "      <td>EnrllAo58CMJ</td>\n",
       "      <td>J : Shim , and R. &lt;unk&gt; WATCHMAN : A data warehouse intelligent cache manager</td>\n",
       "      <td>P Scheuermann</td>\n",
       "      <td>&lt;unk&gt;</td>\n",
       "      <td>0.0</td>\n",
       "    </tr>\n",
       "    <tr>\n",
       "      <th>105181</th>\n",
       "      <td>journals/sigmod/BoscMP01</td>\n",
       "      <td>Report on The fourth International Conference on Flexible Query Answering systems</td>\n",
       "      <td>&lt;unk&gt;</td>\n",
       "      <td>&lt;unk&gt;</td>\n",
       "      <td>2001</td>\n",
       "      <td>url:http://portal.acm.org/ft_gateway.cfm%3Fid%3D959085%26type%3Dpdf%26dl%3DGUIDE%26dl%3DACM%26CFID%3D11111111%26CFTOKEN%3D2222222</td>\n",
       "      <td>Report on &lt;unk&gt; 2002 : Fifth International Conference on Flexible Query Answering Systems</td>\n",
       "      <td>A Motro , T Andreasen</td>\n",
       "      <td>SIGMOD Record ,</td>\n",
       "      <td>2003.0</td>\n",
       "    </tr>\n",
       "    <tr>\n",
       "      <th>47434</th>\n",
       "      <td>conf/vldb/AgrawalS94</td>\n",
       "      <td>Fast Algorithms for Mining Association Rules in Large Databases</td>\n",
       "      <td>R Agrawal , R Srikant</td>\n",
       "      <td>VLDB</td>\n",
       "      <td>1994</td>\n",
       "      <td>cIJQ0qxrkMIJ</td>\n",
       "      <td>Fast algorithms for mining association rules in large databases</td>\n",
       "      <td>RA &lt;unk&gt; , R Srikant</td>\n",
       "      <td>Proceedings of International Conference on Very Large … ,</td>\n",
       "      <td>0.0</td>\n",
       "    </tr>\n",
       "  </tbody>\n",
       "</table>\n",
       "</div>"
      ],
      "text/plain": [
       "                               id1  \\\n",
       "108258   conf/sigmod/LiuPTBBZBHY98   \n",
       "165325  journals/sigmod/DAndreaJ96   \n",
       "166889   conf/vldb/ScheuermannSV96   \n",
       "105181    journals/sigmod/BoscMP01   \n",
       "47434         conf/vldb/AgrawalS94   \n",
       "\n",
       "                                                                                     title  \\\n",
       "108258                                       CQ : A Personalized Update Monitoring Toolkit   \n",
       "165325               <unk> 's Next-Generation Object-Relational Database Management System   \n",
       "166889                               WATCHMAN : A Data Warehouse Intelligent Cache Manager   \n",
       "105181   Report on The fourth International Conference on Flexible Query Answering systems   \n",
       "47434                      Fast Algorithms for Mining Association Rules in Large Databases   \n",
       "\n",
       "                                                                                     authors  \\\n",
       "108258   L Liu , C Pu , W Tang , D Buttler , J Biggs , T Zhou , P Benninghoff , W Han , F Yu   \n",
       "165325                                                                     A <unk> , P Janus   \n",
       "166889                                                      P Scheuermann , J Shim , R <unk>   \n",
       "105181                                                                                 <unk>   \n",
       "47434                                                                  R Agrawal , R Srikant   \n",
       "\n",
       "                     venue  year  \\\n",
       "108258   SIGMOD Conference  1998   \n",
       "165325       SIGMOD Record  1996   \n",
       "166889                VLDB  1996   \n",
       "105181               <unk>  2001   \n",
       "47434                 VLDB  1994   \n",
       "\n",
       "                                                                                                                                      id2  \\\n",
       "108258                                                                                                                       0e3PPUvtZ0MJ   \n",
       "165325                                                                                                                       -XugBF7u07EJ   \n",
       "166889                                                                                                                       EnrllAo58CMJ   \n",
       "105181  url:http://portal.acm.org/ft_gateway.cfm%3Fid%3D959085%26type%3Dpdf%26dl%3DGUIDE%26dl%3DACM%26CFID%3D11111111%26CFTOKEN%3D2222222   \n",
       "47434                                                                                                                        cIJQ0qxrkMIJ   \n",
       "\n",
       "                                                                                             title  \\\n",
       "108258                                                    A personalized update monitoring toolkit   \n",
       "165325                     <unk> ? ? s nextgeneration object-relational database management system   \n",
       "166889               J : Shim , and R. <unk> WATCHMAN : A data warehouse intelligent cache manager   \n",
       "105181   Report on <unk> 2002 : Fifth International Conference on Flexible Query Answering Systems   \n",
       "47434                              Fast algorithms for mining association rules in large databases   \n",
       "\n",
       "                                                    authors  \\\n",
       "108258   , J Biggs , T Zhou , P Benninghoff , W Han , FY CQ   \n",
       "165325                                            , P Janus   \n",
       "166889                                        P Scheuermann   \n",
       "105181                                A Motro , T Andreasen   \n",
       "47434                                  RA <unk> , R Srikant   \n",
       "\n",
       "                                                             venue    year  \n",
       "108258                                             Haas and Tiwary     0.0  \n",
       "165325                                         ACM SIGMOD Record ,  1996.0  \n",
       "166889                                                       <unk>     0.0  \n",
       "105181                                             SIGMOD Record ,  2003.0  \n",
       "47434    Proceedings of International Conference on Very Large … ,     0.0  "
      ]
     },
     "execution_count": 7,
     "metadata": {},
     "output_type": "execute_result"
    }
   ],
   "source": [
    "mapping = map.copy()\n",
    "bool_mask = (y_val_ == 1) & ~(y_val_pred >= 0.5)\n",
    "columns = ['title', 'authors', 'venue']\n",
    "df_examine = hp.examine_data(data['val_1'], data['val_2'], columns, bool_mask, mapping)\n",
    "df_examine.sample(5)"
   ]
  },
  {
   "cell_type": "markdown",
   "metadata": {},
   "source": [
    "# Save model and histories "
   ]
  },
  {
   "cell_type": "code",
   "execution_count": 8,
   "metadata": {
    "ExecuteTime": {
     "end_time": "2018-04-12T21:51:21.415206Z",
     "start_time": "2018-04-12T21:51:21.050809Z"
    }
   },
   "outputs": [],
   "source": [
    "pd.DataFrame(histories).to_csv('../data/histories/dblp-scholar-fasttext.csv', index=False)\n",
    "model.save_weights('../data/models/dblp-scholar-fasttext-base-1-num-null')"
   ]
  },
  {
   "cell_type": "markdown",
   "metadata": {},
   "source": [
    "# Test model "
   ]
  },
  {
   "cell_type": "code",
   "execution_count": 9,
   "metadata": {
    "ExecuteTime": {
     "end_time": "2018-04-12T21:51:26.898830Z",
     "start_time": "2018-04-12T21:51:23.802014Z"
    }
   },
   "outputs": [
    {
     "name": "stdout",
     "output_type": "stream",
     "text": [
      "              precision    recall  f1-score   support\n",
      "\n",
      "           0    0.99823   0.99978   0.99900    213884\n",
      "           1    0.97338   0.82201   0.89132      2135\n",
      "\n",
      "   micro avg    0.99802   0.99802   0.99802    216019\n",
      "   macro avg    0.98580   0.91089   0.94516    216019\n",
      "weighted avg    0.99798   0.99802   0.99794    216019\n",
      "\n",
      "[[213836     48]\n",
      " [   380   1755]]\n"
     ]
    }
   ],
   "source": [
    "model.load_weights('../data/models/dblp-scholar-fasttext-base-1-num-null')\n",
    "y_test_pred = model.predict(X_test, batch_size=8102)[:,1]\n",
    "y_test_ = data['test_y'].values.squeeze()\n",
    "print(classification_report(y_test_, y_test_pred >= 0.5, digits=5))\n",
    "print(confusion_matrix(y_test_, y_test_pred >= 0.5))"
   ]
  },
  {
   "cell_type": "code",
   "execution_count": null,
   "metadata": {},
   "outputs": [],
   "source": []
  }
 ],
 "metadata": {
  "kernelspec": {
   "display_name": "Python 3",
   "language": "python",
   "name": "python3"
  },
  "language_info": {
   "codemirror_mode": {
    "name": "ipython",
    "version": 3
   },
   "file_extension": ".py",
   "mimetype": "text/x-python",
   "name": "python",
   "nbconvert_exporter": "python",
   "pygments_lexer": "ipython3",
   "version": "3.7.3"
  },
  "varInspector": {
   "cols": {
    "lenName": 16,
    "lenType": 16,
    "lenVar": 40
   },
   "kernels_config": {
    "python": {
     "delete_cmd_postfix": "",
     "delete_cmd_prefix": "del ",
     "library": "var_list.py",
     "varRefreshCmd": "print(var_dic_list())"
    },
    "r": {
     "delete_cmd_postfix": ") ",
     "delete_cmd_prefix": "rm(",
     "library": "var_list.r",
     "varRefreshCmd": "cat(var_dic_list()) "
    }
   },
   "types_to_exclude": [
    "module",
    "function",
    "builtin_function_or_method",
    "instance",
    "_Feature"
   ],
   "window_display": false
  }
 },
 "nbformat": 4,
 "nbformat_minor": 2
}
