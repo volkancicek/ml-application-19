{
 "cells": [
  {
   "cell_type": "code",
   "execution_count": 1,
   "metadata": {
    "ExecuteTime": {
     "end_time": "2018-04-12T19:27:23.665689Z",
     "start_time": "2018-04-12T19:27:20.582747Z"
    }
   },
   "outputs": [
    {
     "name": "stderr",
     "output_type": "stream",
     "text": [
      "Using TensorFlow backend.\n"
     ]
    }
   ],
   "source": [
    "import sys\n",
    "import os\n",
    "import re\n",
    "sys.path.append('../scripts')\n",
    "\n",
    "import numpy as np\n",
    "import pandas as pd\n",
    "import matplotlib.pyplot as plt\n",
    "import seaborn as sns\n",
    "import helpers as hp\n",
    "import pickle as pkl\n",
    "import itertools as it\n",
    "\n",
    "from collections import OrderedDict, defaultdict\n",
    "\n",
    "from sklearn.metrics import f1_score, precision_score, recall_score,\\\n",
    "                            average_precision_score, roc_auc_score,\\\n",
    "                            roc_curve, precision_recall_curve, confusion_matrix,\\\n",
    "                            accuracy_score, classification_report\n",
    "\n",
    "from IPython.core.interactiveshell import InteractiveShell\n",
    "from matplotlib import rcParams\n",
    "from importlib import reload\n",
    "from model_generator import deep_er_model_generator\n",
    "pd.options.display.max_colwidth = 1000\n",
    "\n",
    "rcParams['font.family'] = 'serif'\n",
    "rcParams['font.serif'] = 'times new roman'\n",
    "\n",
    "%config InlineBackend.figure_format = 'retina'\n",
    "%matplotlib inline"
   ]
  },
  {
   "cell_type": "markdown",
   "metadata": {},
   "source": [
    "# Load data "
   ]
  },
  {
   "cell_type": "code",
   "execution_count": 2,
   "metadata": {
    "ExecuteTime": {
     "end_time": "2018-04-12T21:41:12.001384Z",
     "start_time": "2018-04-12T21:40:47.012379Z"
    }
   },
   "outputs": [],
   "source": [
    "reload(hp)\n",
    "\n",
    "with open('../data/embeddings/fasttext-300.map', 'rb') as f:\n",
    "    map = pkl.load(f)\n",
    "\n",
    "data_dir = os.path.join('..','data')\n",
    "source_dir = os.path.join(data_dir,'split','crossref/exparser/fasttext')\n",
    "data = hp.load_data(source_dir)\n",
    "\n",
    "datasets = ['train_1', 'val_1', 'test_1', 'train_2', 'val_2', 'test_2']\n",
    "\n",
    "for data_name in datasets:\n",
    "    data[data_name] = data[data_name].fillna(0)\n",
    "\n",
    "doc_freqs_1, doc_freqs_2 = hp.get_document_frequencies('../data/converted/crossref/exparser/fasttext/', mapping=map)\n",
    "nan_idx = map['word2idx']['NaN']"
   ]
  },
  {
   "cell_type": "markdown",
   "metadata": {},
   "source": [
    "# Generate model"
   ]
  },
  {
   "cell_type": "code",
   "execution_count": 3,
   "metadata": {
    "ExecuteTime": {
     "end_time": "2018-04-12T21:41:28.691606Z",
     "start_time": "2018-04-12T21:41:20.426588Z"
    }
   },
   "outputs": [
    {
     "name": "stderr",
     "output_type": "stream",
     "text": [
      "WARNING: Logging before flag parsing goes to stderr.\n",
      "W0906 11:22:58.771909  1832 deprecation_wrapper.py:119] From D:\\Anaconda3\\lib\\site-packages\\keras\\backend\\tensorflow_backend.py:74: The name tf.get_default_graph is deprecated. Please use tf.compat.v1.get_default_graph instead.\n",
      "\n",
      "W0906 11:22:59.336687  1832 deprecation_wrapper.py:119] From D:\\Anaconda3\\lib\\site-packages\\keras\\backend\\tensorflow_backend.py:517: The name tf.placeholder is deprecated. Please use tf.compat.v1.placeholder instead.\n",
      "\n",
      "W0906 11:23:28.692148  1832 deprecation_wrapper.py:119] From D:\\Anaconda3\\lib\\site-packages\\keras\\backend\\tensorflow_backend.py:4138: The name tf.random_uniform is deprecated. Please use tf.random.uniform instead.\n",
      "\n",
      "W0906 11:23:29.012961  1832 deprecation_wrapper.py:119] From D:\\Anaconda3\\lib\\site-packages\\keras\\backend\\tensorflow_backend.py:174: The name tf.get_default_session is deprecated. Please use tf.compat.v1.get_default_session instead.\n",
      "\n",
      "W0906 11:23:29.012961  1832 deprecation_wrapper.py:119] From D:\\Anaconda3\\lib\\site-packages\\keras\\backend\\tensorflow_backend.py:181: The name tf.ConfigProto is deprecated. Please use tf.compat.v1.ConfigProto instead.\n",
      "\n"
     ]
    },
    {
     "name": "stdout",
     "output_type": "stream",
     "text": [
      "Number of inputs to dense layer: 14\n"
     ]
    }
   ],
   "source": [
    "histories = dict(acc=list(), val_acc=list(), loss=list(), val_loss=list())\n",
    "model, X_train, X_val, X_test, y_train, y_val, y_test = \\\n",
    "deep_er_model_generator(data,\n",
    "                        embedding_file = '../data/embeddings/fasttext-300.matrix.npy',\n",
    "                        text_columns = ['author', 'title', 'journal'],\n",
    "                        numeric_columns = ['year'],\n",
    "                        text_nan_idx=nan_idx,\n",
    "                        num_nan_val=0,\n",
    "                        text_sim_metrics=['cosine'],\n",
    "                        text_compositions=['average'],\n",
    "                        numeric_sim_metrics=['min_max_ratio', 'scaled_inverse_lp', 'unscaled_inverse_lp'],\n",
    "                        dense_nodes=[32, 16, 8],\n",
    "                        document_frequencies=(doc_freqs_1, doc_freqs_2),\n",
    "                        idf_smoothing=2,\n",
    "                        make_isna=True)"
   ]
  },
  {
   "cell_type": "markdown",
   "metadata": {},
   "source": [
    "# Train model "
   ]
  },
  {
   "cell_type": "code",
   "execution_count": 4,
   "metadata": {
    "ExecuteTime": {
     "end_time": "2018-04-12T21:52:12.328428Z",
     "start_time": "2018-04-12T21:51:42.009377Z"
    },
    "scrolled": true
   },
   "outputs": [
    {
     "name": "stderr",
     "output_type": "stream",
     "text": [
      "W0906 11:24:28.198585  1832 deprecation_wrapper.py:119] From D:\\Anaconda3\\lib\\site-packages\\keras\\optimizers.py:790: The name tf.train.Optimizer is deprecated. Please use tf.compat.v1.train.Optimizer instead.\n",
      "\n",
      "W0906 11:24:28.247031  1832 deprecation.py:323] From D:\\Anaconda3\\lib\\site-packages\\tensorflow\\python\\ops\\nn_impl.py:180: add_dispatch_support.<locals>.wrapper (from tensorflow.python.ops.array_ops) is deprecated and will be removed in a future version.\n",
      "Instructions for updating:\n",
      "Use tf.where in 2.0, which has the same broadcast rule as np.where\n"
     ]
    },
    {
     "name": "stdout",
     "output_type": "stream",
     "text": [
      "Train on 1841270 samples, validate on 230159 samples\n",
      "Epoch 1/10\n",
      "1841270/1841270 [==============================] - 225s 122us/step - loss: 0.2862 - acc: 0.8660 - val_loss: 0.0496 - val_acc: 0.9903\n",
      "Epoch 2/10\n",
      "1841270/1841270 [==============================] - 215s 117us/step - loss: 0.0377 - acc: 0.9901 - val_loss: 0.0244 - val_acc: 0.9903\n",
      "Epoch 3/10\n",
      "1841270/1841270 [==============================] - 213s 116us/step - loss: 0.0189 - acc: 0.9951 - val_loss: 0.0134 - val_acc: 0.9966\n",
      "Epoch 4/10\n",
      "1841270/1841270 [==============================] - 212s 115us/step - loss: 0.0107 - acc: 0.9971 - val_loss: 0.0082 - val_acc: 0.9979\n",
      "Epoch 5/10\n",
      "1841270/1841270 [==============================] - 212s 115us/step - loss: 0.0079 - acc: 0.9979 - val_loss: 0.0068 - val_acc: 0.9982\n",
      "Epoch 6/10\n",
      "1841270/1841270 [==============================] - 212s 115us/step - loss: 0.0069 - acc: 0.9982 - val_loss: 0.0064 - val_acc: 0.9984\n",
      "Epoch 7/10\n",
      "1841270/1841270 [==============================] - 212s 115us/step - loss: 0.0066 - acc: 0.9984 - val_loss: 0.0062 - val_acc: 0.9985\n",
      "Epoch 8/10\n",
      "1841270/1841270 [==============================] - 212s 115us/step - loss: 0.0063 - acc: 0.9984 - val_loss: 0.0060 - val_acc: 0.9985\n",
      "Epoch 9/10\n",
      "1841270/1841270 [==============================] - 212s 115us/step - loss: 0.0062 - acc: 0.9984 - val_loss: 0.0059 - val_acc: 0.9985\n",
      "Epoch 10/10\n",
      "1841270/1841270 [==============================] - 212s 115us/step - loss: 0.0061 - acc: 0.9985 - val_loss: 0.0058 - val_acc: 0.9985\n"
     ]
    }
   ],
   "source": [
    "model.compile(optimizer='adam', loss='binary_crossentropy', metrics=['acc'])\n",
    "history = model.fit(X_train, y_train, epochs=10, batch_size=16384,\n",
    "                    validation_data=(X_val, y_val),\n",
    "                    shuffle=True)\n",
    "\n",
    "histories['acc'].extend(history.history['acc'])\n",
    "histories['val_acc'].extend(history.history['val_acc'])\n",
    "histories['loss'].extend(history.history['loss'])\n",
    "histories['val_loss'].extend(history.history['val_loss'])"
   ]
  },
  {
   "cell_type": "markdown",
   "metadata": {},
   "source": [
    "# Learning curves"
   ]
  },
  {
   "cell_type": "code",
   "execution_count": 5,
   "metadata": {
    "ExecuteTime": {
     "end_time": "2018-04-12T21:53:06.430610Z",
     "start_time": "2018-04-12T21:53:06.048975Z"
    }
   },
   "outputs": [
    {
     "data": {
      "image/png": "[encoded data removed]",
      "text/plain": [
       "<Figure size 1152x432 with 2 Axes>"
      ]
     },
     "metadata": {
      "image/png": {
       "height": 374,
       "width": 943
      },
      "needs_background": "light"
     },
     "output_type": "display_data"
    }
   ],
   "source": [
    "fig, axes = plt.subplots(1, 2, figsize=(16,6))\n",
    "axes[0].plot(histories['loss'], label='loss')\n",
    "axes[0].plot(histories['val_loss'], label='val_loss')\n",
    "axes[0].set_ylim(0, 0.02)\n",
    "axes[1].plot(histories['acc'], label='acc')\n",
    "axes[1].plot(histories['val_acc'], label='val_acc')\n",
    "axes[1].set_ylim(.99, 1)\n",
    "\n",
    "for ax in axes:\n",
    "    ax.legend()\n",
    "    ax.grid(True)\n",
    "    ax.set(xlabel='epoch')"
   ]
  },
  {
   "cell_type": "markdown",
   "metadata": {},
   "source": [
    "# Evaluate model "
   ]
  },
  {
   "cell_type": "code",
   "execution_count": 6,
   "metadata": {
    "ExecuteTime": {
     "end_time": "2018-04-12T21:53:11.515998Z",
     "start_time": "2018-04-12T21:53:08.723045Z"
    }
   },
   "outputs": [
    {
     "name": "stdout",
     "output_type": "stream",
     "text": [
      "              precision    recall  f1-score   support\n",
      "\n",
      "           0       1.00      1.00      1.00    227917\n",
      "           1       0.97      0.88      0.92      2242\n",
      "\n",
      "   micro avg       1.00      1.00      1.00    230159\n",
      "   macro avg       0.98      0.94      0.96    230159\n",
      "weighted avg       1.00      1.00      1.00    230159\n",
      "\n",
      "[[227852     65]\n",
      " [   274   1968]]\n"
     ]
    }
   ],
   "source": [
    "y_val_pred = model.predict(X_val, batch_size=8192)[:,1]\n",
    "y_val_ = data['val_y'].values.squeeze()\n",
    "print(classification_report(y_val_, y_val_pred >= 0.5))\n",
    "print(confusion_matrix(y_val_, y_val_pred >= 0.5))"
   ]
  },
  {
   "cell_type": "code",
   "execution_count": 7,
   "metadata": {
    "ExecuteTime": {
     "end_time": "2018-04-12T21:45:49.865322Z",
     "start_time": "2018-04-12T21:45:47.406682Z"
    },
    "scrolled": true
   },
   "outputs": [
    {
     "data": {
      "text/html": [
       "<div>\n",
       "<style scoped>\n",
       "    .dataframe tbody tr th:only-of-type {\n",
       "        vertical-align: middle;\n",
       "    }\n",
       "\n",
       "    .dataframe tbody tr th {\n",
       "        vertical-align: top;\n",
       "    }\n",
       "\n",
       "    .dataframe thead th {\n",
       "        text-align: right;\n",
       "    }\n",
       "</style>\n",
       "<table border=\"1\" class=\"dataframe\">\n",
       "  <thead>\n",
       "    <tr style=\"text-align: right;\">\n",
       "      <th></th>\n",
       "      <th>id1</th>\n",
       "      <th>author</th>\n",
       "      <th>title</th>\n",
       "      <th>journal</th>\n",
       "      <th>year</th>\n",
       "      <th>id2</th>\n",
       "      <th>author</th>\n",
       "      <th>title</th>\n",
       "      <th>journal</th>\n",
       "      <th>year</th>\n",
       "    </tr>\n",
       "  </thead>\n",
       "  <tbody>\n",
       "    <tr>\n",
       "      <th>62798</th>\n",
       "      <td>7e88e8e8-ac03-11e9-9154-04ea56df376a</td>\n",
       "      <td>&lt;unk&gt; Die &lt;unk&gt;</td>\n",
       "      <td>Reichardt C and Beispiele</td>\n",
       "      <td>&lt;unk&gt;</td>\n",
       "      <td>2002.0</td>\n",
       "      <td>7e89f99c-ac03-11e9-aba7-04ea56df376a</td>\n",
       "      <td>Beispiele &lt;unk&gt; die &lt;unk&gt;</td>\n",
       "      <td>C</td>\n",
       "      <td>&lt;unk&gt;</td>\n",
       "      <td>2002.0</td>\n",
       "    </tr>\n",
       "    <tr>\n",
       "      <th>210825</th>\n",
       "      <td>8b711652-ac03-11e9-ba4e-04ea56df376a</td>\n",
       "      <td>BCH &lt;unk&gt; 33 issue 2 Cover and Front matter</td>\n",
       "      <td>Anon</td>\n",
       "      <td>&lt;unk&gt;</td>\n",
       "      <td>2016.0</td>\n",
       "      <td>8b6fdea6-ac03-11e9-ae74-04ea56df376a</td>\n",
       "      <td>33 : 2 British</td>\n",
       "      <td>&lt;unk&gt;</td>\n",
       "      <td>&lt;unk&gt;</td>\n",
       "      <td>2016.0</td>\n",
       "    </tr>\n",
       "    <tr>\n",
       "      <th>64991</th>\n",
       "      <td>94119e12-ac03-11e9-aea6-04ea56df376a</td>\n",
       "      <td>&lt;unk&gt;</td>\n",
       "      <td>&lt;unk&gt; WL and Parent-Child &lt;unk&gt; F</td>\n",
       "      <td>&lt;unk&gt;</td>\n",
       "      <td>0.0</td>\n",
       "      <td>940fca94-ac03-11e9-8b43-04ea56df376a</td>\n",
       "      <td>&lt;unk&gt;</td>\n",
       "      <td>Warner W and Lloyd &lt;unk&gt; and &lt;unk&gt; F</td>\n",
       "      <td>&lt;unk&gt;</td>\n",
       "      <td>1937.0</td>\n",
       "    </tr>\n",
       "    <tr>\n",
       "      <th>66352</th>\n",
       "      <td>87e80f50-ac03-11e9-bb88-04ea56df376a</td>\n",
       "      <td>Early postoperative prediction of clinically relevant pancreatic fistula after pancreaticoduodenectomy</td>\n",
       "      <td>&lt;unk&gt; S and &lt;unk&gt; F and &lt;unk&gt; G</td>\n",
       "      <td>&lt;unk&gt;</td>\n",
       "      <td>0.0</td>\n",
       "      <td>87e6fe9a-ac03-11e9-b0a2-04ea56df376a</td>\n",
       "      <td>&lt;unk&gt; &lt;unk&gt; Prediction of Clinically Relevant Pancreatic Fistula after &lt;unk&gt; HPB 18 : E112</td>\n",
       "      <td>&lt;unk&gt; S</td>\n",
       "      <td>&lt;unk&gt;</td>\n",
       "      <td>2016.0</td>\n",
       "    </tr>\n",
       "    <tr>\n",
       "      <th>42317</th>\n",
       "      <td>7be621ae-ac03-11e9-846a-04ea56df376a</td>\n",
       "      <td>&lt;unk&gt; , gianluca Sabbi , &lt;unk&gt; Shen &lt;unk&gt; Detection Utilizing Stray &lt;unk&gt;</td>\n",
       "      <td>Ravaioli Emmanuele , Maxim and Kai Zhang</td>\n",
       "      <td>&lt;unk&gt;</td>\n",
       "      <td>2018.0</td>\n",
       "      <td>7be73264-ac03-11e9-a531-04ea56df376a</td>\n",
       "      <td>Detection Utilizing Stray capacitances</td>\n",
       "      <td>Ravaioli E and &lt;unk&gt; M and Sabbi G and Shen T and Zhang K and Quench</td>\n",
       "      <td>&lt;unk&gt;</td>\n",
       "      <td>2018.0</td>\n",
       "    </tr>\n",
       "  </tbody>\n",
       "</table>\n",
       "</div>"
      ],
      "text/plain": [
       "                                         id1  \\\n",
       "62798   7e88e8e8-ac03-11e9-9154-04ea56df376a   \n",
       "210825  8b711652-ac03-11e9-ba4e-04ea56df376a   \n",
       "64991   94119e12-ac03-11e9-aea6-04ea56df376a   \n",
       "66352   87e80f50-ac03-11e9-bb88-04ea56df376a   \n",
       "42317   7be621ae-ac03-11e9-846a-04ea56df376a   \n",
       "\n",
       "                                                                                                         author  \\\n",
       "62798                                                                                           <unk> Die <unk>   \n",
       "210825                                                              BCH <unk> 33 issue 2 Cover and Front matter   \n",
       "64991                                                                                                     <unk>   \n",
       "66352    Early postoperative prediction of clinically relevant pancreatic fistula after pancreaticoduodenectomy   \n",
       "42317                                 <unk> , gianluca Sabbi , <unk> Shen <unk> Detection Utilizing Stray <unk>   \n",
       "\n",
       "                                            title journal    year  \\\n",
       "62798                   Reichardt C and Beispiele   <unk>  2002.0   \n",
       "210825                                       Anon   <unk>  2016.0   \n",
       "64991           <unk> WL and Parent-Child <unk> F   <unk>     0.0   \n",
       "66352             <unk> S and <unk> F and <unk> G   <unk>     0.0   \n",
       "42317    Ravaioli Emmanuele , Maxim and Kai Zhang   <unk>  2018.0   \n",
       "\n",
       "                                         id2  \\\n",
       "62798   7e89f99c-ac03-11e9-aba7-04ea56df376a   \n",
       "210825  8b6fdea6-ac03-11e9-ae74-04ea56df376a   \n",
       "64991   940fca94-ac03-11e9-8b43-04ea56df376a   \n",
       "66352   87e6fe9a-ac03-11e9-b0a2-04ea56df376a   \n",
       "42317   7be73264-ac03-11e9-a531-04ea56df376a   \n",
       "\n",
       "                                                                                             author  \\\n",
       "62798                                                                     Beispiele <unk> die <unk>   \n",
       "210825                                                                               33 : 2 British   \n",
       "64991                                                                                         <unk>   \n",
       "66352    <unk> <unk> Prediction of Clinically Relevant Pancreatic Fistula after <unk> HPB 18 : E112   \n",
       "42317                                                        Detection Utilizing Stray capacitances   \n",
       "\n",
       "                                                                        title  \\\n",
       "62798                                                                       C   \n",
       "210825                                                                  <unk>   \n",
       "64991                                    Warner W and Lloyd <unk> and <unk> F   \n",
       "66352                                                                 <unk> S   \n",
       "42317    Ravaioli E and <unk> M and Sabbi G and Shen T and Zhang K and Quench   \n",
       "\n",
       "       journal    year  \n",
       "62798    <unk>  2002.0  \n",
       "210825   <unk>  2016.0  \n",
       "64991    <unk>  1937.0  \n",
       "66352    <unk>  2016.0  \n",
       "42317    <unk>  2018.0  "
      ]
     },
     "execution_count": 7,
     "metadata": {},
     "output_type": "execute_result"
    }
   ],
   "source": [
    "mapping = map.copy()\n",
    "bool_mask = (y_val_ == 1) & ~(y_val_pred >= 0.5)\n",
    "columns = ['author', 'title', 'journal']\n",
    "df_examine = hp.examine_data(data['val_1'], data['val_2'], columns, bool_mask, mapping)\n",
    "df_examine.sample(5)"
   ]
  },
  {
   "cell_type": "markdown",
   "metadata": {},
   "source": [
    "# Save model and histories "
   ]
  },
  {
   "cell_type": "code",
   "execution_count": 8,
   "metadata": {
    "ExecuteTime": {
     "end_time": "2018-04-12T21:51:21.415206Z",
     "start_time": "2018-04-12T21:51:21.050809Z"
    }
   },
   "outputs": [],
   "source": [
    "pd.DataFrame(histories).to_csv('../data/histories/crossref-exparser-fasttext.csv', index=False)\n",
    "model.save_weights('../data/models/crossref-exparser-fasttext-base-1-num-null')"
   ]
  },
  {
   "cell_type": "markdown",
   "metadata": {},
   "source": [
    "# Test model "
   ]
  },
  {
   "cell_type": "code",
   "execution_count": 9,
   "metadata": {
    "ExecuteTime": {
     "end_time": "2018-04-12T21:51:26.898830Z",
     "start_time": "2018-04-12T21:51:23.802014Z"
    }
   },
   "outputs": [
    {
     "name": "stdout",
     "output_type": "stream",
     "text": [
      "              precision    recall  f1-score   support\n",
      "\n",
      "           0    0.99883   0.99968   0.99925    227886\n",
      "           1    0.96489   0.88253   0.92187      2273\n",
      "\n",
      "   micro avg    0.99852   0.99852   0.99852    230159\n",
      "   macro avg    0.98186   0.94111   0.96056    230159\n",
      "weighted avg    0.99849   0.99852   0.99849    230159\n",
      "\n",
      "[[227813     73]\n",
      " [   267   2006]]\n"
     ]
    }
   ],
   "source": [
    "model.load_weights('../data/models/crossref-exparser-fasttext-base-1-num-null')\n",
    "y_test_pred = model.predict(X_test, batch_size=8102)[:,1]\n",
    "y_test_ = data['test_y'].values.squeeze()\n",
    "print(classification_report(y_test_, y_test_pred >= 0.5, digits=5))\n",
    "print(confusion_matrix(y_test_, y_test_pred >= 0.5))"
   ]
  },
  {
   "cell_type": "code",
   "execution_count": null,
   "metadata": {
    "collapsed": true
   },
   "outputs": [],
   "source": []
  }
 ],
 "metadata": {
  "kernelspec": {
   "display_name": "Python 3",
   "language": "python",
   "name": "python3"
  },
  "language_info": {
   "codemirror_mode": {
    "name": "ipython",
    "version": 3
   },
   "file_extension": ".py",
   "mimetype": "text/x-python",
   "name": "python",
   "nbconvert_exporter": "python",
   "pygments_lexer": "ipython3",
   "version": "3.7.3"
  },
  "varInspector": {
   "cols": {
    "lenName": 16,
    "lenType": 16,
    "lenVar": 40
   },
   "kernels_config": {
    "python": {
     "delete_cmd_postfix": "",
     "delete_cmd_prefix": "del ",
     "library": "var_list.py",
     "varRefreshCmd": "print(var_dic_list())"
    },
    "r": {
     "delete_cmd_postfix": ") ",
     "delete_cmd_prefix": "rm(",
     "library": "var_list.r",
     "varRefreshCmd": "cat(var_dic_list()) "
    }
   },
   "types_to_exclude": [
    "module",
    "function",
    "builtin_function_or_method",
    "instance",
    "_Feature"
   ],
   "window_display": false
  }
 },
 "nbformat": 4,
 "nbformat_minor": 2
}
